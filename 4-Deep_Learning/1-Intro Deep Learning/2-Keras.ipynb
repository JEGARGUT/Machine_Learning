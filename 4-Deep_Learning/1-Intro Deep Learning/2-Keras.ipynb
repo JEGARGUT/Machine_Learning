{
 "cells": [
  {
   "attachments": {},
   "cell_type": "markdown",
   "metadata": {},
   "source": [
    "# Keras\n",
    "Librería para programar redes neuronales de una manera más sencilla que con TensorFlow. Keras se encuentra en una capa de abstracción por encima de TensorFlow.\n",
    "\n",
    "[Documentación](https://keras.io/guides/)"
   ]
  },
  {
   "cell_type": "code",
   "execution_count": 1,
   "metadata": {},
   "outputs": [],
   "source": [
    "# !pip install tensorflow\n",
    "# !pip install keras"
   ]
  },
  {
   "attachments": {},
   "cell_type": "markdown",
   "metadata": {},
   "source": [
    "Empezamos importando librerías"
   ]
  },
  {
   "cell_type": "code",
   "execution_count": 12,
   "metadata": {},
   "outputs": [],
   "source": [
    "import tensorflow as tf\n",
    "from tensorflow import keras\n",
    "from tensorflow.keras import layers\n",
    "import pandas as pd\n",
    "import numpy as np"
   ]
  },
  {
   "attachments": {},
   "cell_type": "markdown",
   "metadata": {},
   "source": [
    "Cargamos los datos de mnist. No vamos a tratar imagenes con redes convolucionales (perdemos la estructura espacial 2D). Todos los pixeles se convertirán en un vector de 28x28 features independientes, que serán las entradas del modelo."
   ]
  },
  {
   "cell_type": "code",
   "execution_count": 13,
   "metadata": {},
   "outputs": [],
   "source": [
    "# Cogemos las imágenes de los dígitos asi como el conjunto de train y test\n",
    "(X_train, y_train), (X_test, y_test) = keras.datasets.mnist.load_data()"
   ]
  },
  {
   "attachments": {},
   "cell_type": "markdown",
   "metadata": {},
   "source": [
    "Vemos dimensiones del dataset"
   ]
  },
  {
   "cell_type": "code",
   "execution_count": 14,
   "metadata": {},
   "outputs": [
    {
     "name": "stdout",
     "output_type": "stream",
     "text": [
      "(60000, 28, 28)\n",
      "(60000,)\n",
      "(10000, 28, 28)\n",
      "(10000,)\n"
     ]
    }
   ],
   "source": [
    "'''\n",
    "60.000 imagenes de 28x28 pixeles\n",
    "'''\n",
    "print(X_train.shape)\n",
    "print(y_train.shape)\n",
    "print(X_test.shape)\n",
    "print(y_test.shape)"
   ]
  },
  {
   "cell_type": "code",
   "execution_count": 15,
   "metadata": {
    "collapsed": true,
    "jupyter": {
     "outputs_hidden": true
    },
    "tags": []
   },
   "outputs": [
    {
     "data": {
      "text/plain": [
       "array([[  0,   0,   0,   0,   0,   0,   0,   0,   0,   0,   0,   0,   0,\n",
       "          0,   0,   0,   0,   0,   0,   0,   0,   0,   0,   0,   0,   0,\n",
       "          0,   0],\n",
       "       [  0,   0,   0,   0,   0,   0,   0,   0,   0,   0,   0,   0,   0,\n",
       "          0,   0,   0,   0,   0,   0,   0,   0,   0,   0,   0,   0,   0,\n",
       "          0,   0],\n",
       "       [  0,   0,   0,   0,   0,   0,   0,   0,   0,   0,   0,   0,   0,\n",
       "          0,   0,   0,   0,   0,   0,   0,   0,   0,   0,   0,   0,   0,\n",
       "          0,   0],\n",
       "       [  0,   0,   0,   0,   0,   0,   0,   0,   0,   0,   0,   0,   0,\n",
       "          0,   0,   0,   0,   0,   0,   0,   0,   0,   0,   0,   0,   0,\n",
       "          0,   0],\n",
       "       [  0,   0,   0,   0,   0,   0,   0,   0,   0,   0,   0,   0,   0,\n",
       "          0,   0,   0,   0,   0,   0,   0,   0,   0,   0,   0,   0,   0,\n",
       "          0,   0],\n",
       "       [  0,   0,   0,   0,   0,   0,   0,   0,   0,   0,   0,   0,   3,\n",
       "         18,  18,  18, 126, 136, 175,  26, 166, 255, 247, 127,   0,   0,\n",
       "          0,   0],\n",
       "       [  0,   0,   0,   0,   0,   0,   0,   0,  30,  36,  94, 154, 170,\n",
       "        253, 253, 253, 253, 253, 225, 172, 253, 242, 195,  64,   0,   0,\n",
       "          0,   0],\n",
       "       [  0,   0,   0,   0,   0,   0,   0,  49, 238, 253, 253, 253, 253,\n",
       "        253, 253, 253, 253, 251,  93,  82,  82,  56,  39,   0,   0,   0,\n",
       "          0,   0],\n",
       "       [  0,   0,   0,   0,   0,   0,   0,  18, 219, 253, 253, 253, 253,\n",
       "        253, 198, 182, 247, 241,   0,   0,   0,   0,   0,   0,   0,   0,\n",
       "          0,   0],\n",
       "       [  0,   0,   0,   0,   0,   0,   0,   0,  80, 156, 107, 253, 253,\n",
       "        205,  11,   0,  43, 154,   0,   0,   0,   0,   0,   0,   0,   0,\n",
       "          0,   0],\n",
       "       [  0,   0,   0,   0,   0,   0,   0,   0,   0,  14,   1, 154, 253,\n",
       "         90,   0,   0,   0,   0,   0,   0,   0,   0,   0,   0,   0,   0,\n",
       "          0,   0],\n",
       "       [  0,   0,   0,   0,   0,   0,   0,   0,   0,   0,   0, 139, 253,\n",
       "        190,   2,   0,   0,   0,   0,   0,   0,   0,   0,   0,   0,   0,\n",
       "          0,   0],\n",
       "       [  0,   0,   0,   0,   0,   0,   0,   0,   0,   0,   0,  11, 190,\n",
       "        253,  70,   0,   0,   0,   0,   0,   0,   0,   0,   0,   0,   0,\n",
       "          0,   0],\n",
       "       [  0,   0,   0,   0,   0,   0,   0,   0,   0,   0,   0,   0,  35,\n",
       "        241, 225, 160, 108,   1,   0,   0,   0,   0,   0,   0,   0,   0,\n",
       "          0,   0],\n",
       "       [  0,   0,   0,   0,   0,   0,   0,   0,   0,   0,   0,   0,   0,\n",
       "         81, 240, 253, 253, 119,  25,   0,   0,   0,   0,   0,   0,   0,\n",
       "          0,   0],\n",
       "       [  0,   0,   0,   0,   0,   0,   0,   0,   0,   0,   0,   0,   0,\n",
       "          0,  45, 186, 253, 253, 150,  27,   0,   0,   0,   0,   0,   0,\n",
       "          0,   0],\n",
       "       [  0,   0,   0,   0,   0,   0,   0,   0,   0,   0,   0,   0,   0,\n",
       "          0,   0,  16,  93, 252, 253, 187,   0,   0,   0,   0,   0,   0,\n",
       "          0,   0],\n",
       "       [  0,   0,   0,   0,   0,   0,   0,   0,   0,   0,   0,   0,   0,\n",
       "          0,   0,   0,   0, 249, 253, 249,  64,   0,   0,   0,   0,   0,\n",
       "          0,   0],\n",
       "       [  0,   0,   0,   0,   0,   0,   0,   0,   0,   0,   0,   0,   0,\n",
       "          0,  46, 130, 183, 253, 253, 207,   2,   0,   0,   0,   0,   0,\n",
       "          0,   0],\n",
       "       [  0,   0,   0,   0,   0,   0,   0,   0,   0,   0,   0,   0,  39,\n",
       "        148, 229, 253, 253, 253, 250, 182,   0,   0,   0,   0,   0,   0,\n",
       "          0,   0],\n",
       "       [  0,   0,   0,   0,   0,   0,   0,   0,   0,   0,  24, 114, 221,\n",
       "        253, 253, 253, 253, 201,  78,   0,   0,   0,   0,   0,   0,   0,\n",
       "          0,   0],\n",
       "       [  0,   0,   0,   0,   0,   0,   0,   0,  23,  66, 213, 253, 253,\n",
       "        253, 253, 198,  81,   2,   0,   0,   0,   0,   0,   0,   0,   0,\n",
       "          0,   0],\n",
       "       [  0,   0,   0,   0,   0,   0,  18, 171, 219, 253, 253, 253, 253,\n",
       "        195,  80,   9,   0,   0,   0,   0,   0,   0,   0,   0,   0,   0,\n",
       "          0,   0],\n",
       "       [  0,   0,   0,   0,  55, 172, 226, 253, 253, 253, 253, 244, 133,\n",
       "         11,   0,   0,   0,   0,   0,   0,   0,   0,   0,   0,   0,   0,\n",
       "          0,   0],\n",
       "       [  0,   0,   0,   0, 136, 253, 253, 253, 212, 135, 132,  16,   0,\n",
       "          0,   0,   0,   0,   0,   0,   0,   0,   0,   0,   0,   0,   0,\n",
       "          0,   0],\n",
       "       [  0,   0,   0,   0,   0,   0,   0,   0,   0,   0,   0,   0,   0,\n",
       "          0,   0,   0,   0,   0,   0,   0,   0,   0,   0,   0,   0,   0,\n",
       "          0,   0],\n",
       "       [  0,   0,   0,   0,   0,   0,   0,   0,   0,   0,   0,   0,   0,\n",
       "          0,   0,   0,   0,   0,   0,   0,   0,   0,   0,   0,   0,   0,\n",
       "          0,   0],\n",
       "       [  0,   0,   0,   0,   0,   0,   0,   0,   0,   0,   0,   0,   0,\n",
       "          0,   0,   0,   0,   0,   0,   0,   0,   0,   0,   0,   0,   0,\n",
       "          0,   0]], dtype=uint8)"
      ]
     },
     "execution_count": 15,
     "metadata": {},
     "output_type": "execute_result"
    }
   ],
   "source": [
    "X_train[0]"
   ]
  },
  {
   "attachments": {},
   "cell_type": "markdown",
   "metadata": {},
   "source": [
    "60.000 imágenes de 28x28 pixeles. Vamos a representar una de ellas"
   ]
  },
  {
   "cell_type": "code",
   "execution_count": 17,
   "metadata": {},
   "outputs": [
    {
     "name": "stderr",
     "output_type": "stream",
     "text": [
      "C:\\Users\\jegar\\AppData\\Local\\Temp\\ipykernel_1120\\2569993385.py:3: MatplotlibDeprecationWarning: The get_cmap function was deprecated in Matplotlib 3.7 and will be removed two minor releases later. Use ``matplotlib.colormaps[name]`` or ``matplotlib.colormaps.get_cmap(obj)`` instead.\n",
      "  plt.imshow(X_train[0], cmap=plt.cm.get_cmap('Greys'));\n"
     ]
    },
    {
     "data": {
      "image/png": "[encoded data removed]",
      "text/plain": [
       "<Figure size 640x480 with 1 Axes>"
      ]
     },
     "metadata": {},
     "output_type": "display_data"
    }
   ],
   "source": [
    "\n",
    "import matplotlib.pyplot as plt\n",
    "\n",
    "plt.imshow(X_train[0], cmap=plt.cm.get_cmap('Greys'));"
   ]
  },
  {
   "attachments": {},
   "cell_type": "markdown",
   "metadata": {},
   "source": [
    "Cada imagen se compone de 28x28 pixeles, y cada pixel representa una escala de grises que va del 0 al 255. Siendo 0 el blanco y 255 negro.\n",
    "\n",
    "¿Se te ocurre alguna manera de normalizar los datos?"
   ]
  },
  {
   "cell_type": "code",
   "execution_count": 18,
   "metadata": {},
   "outputs": [
    {
     "data": {
      "text/plain": [
       "0.0"
      ]
     },
     "execution_count": 18,
     "metadata": {},
     "output_type": "execute_result"
    }
   ],
   "source": [
    "0/255"
   ]
  },
  {
   "cell_type": "code",
   "execution_count": 19,
   "metadata": {},
   "outputs": [
    {
     "data": {
      "text/plain": [
       "0.5019607843137255"
      ]
     },
     "execution_count": 19,
     "metadata": {},
     "output_type": "execute_result"
    }
   ],
   "source": [
    "128/255"
   ]
  },
  {
   "cell_type": "code",
   "execution_count": 20,
   "metadata": {},
   "outputs": [
    {
     "data": {
      "text/plain": [
       "1.0"
      ]
     },
     "execution_count": 20,
     "metadata": {},
     "output_type": "execute_result"
    }
   ],
   "source": [
    "255/255"
   ]
  },
  {
   "cell_type": "code",
   "execution_count": 21,
   "metadata": {},
   "outputs": [],
   "source": [
    "X_train = X_train.astype(\"float32\")/255\n",
    "X_test = X_test.astype(\"float32\")/255"
   ]
  },
  {
   "cell_type": "code",
   "execution_count": 22,
   "metadata": {},
   "outputs": [
    {
     "data": {
      "text/plain": [
       "0.13066062"
      ]
     },
     "execution_count": 22,
     "metadata": {},
     "output_type": "execute_result"
    }
   ],
   "source": [
    "np.mean(X_train)"
   ]
  },
  {
   "cell_type": "code",
   "execution_count": 23,
   "metadata": {
    "collapsed": true,
    "jupyter": {
     "outputs_hidden": true
    },
    "tags": []
   },
   "outputs": [
    {
     "data": {
      "text/plain": [
       "array([[0.        , 0.        , 0.        , 0.        , 0.        ,\n",
       "        0.        , 0.        , 0.        , 0.        , 0.        ,\n",
       "        0.        , 0.        , 0.        , 0.        , 0.        ,\n",
       "        0.        , 0.        , 0.        , 0.        , 0.        ,\n",
       "        0.        , 0.        , 0.        , 0.        , 0.        ,\n",
       "        0.        , 0.        , 0.        ],\n",
       "       [0.        , 0.        , 0.        , 0.        , 0.        ,\n",
       "        0.        , 0.        , 0.        , 0.        , 0.        ,\n",
       "        0.        , 0.        , 0.        , 0.        , 0.        ,\n",
       "        0.        , 0.        , 0.        , 0.        , 0.        ,\n",
       "        0.        , 0.        , 0.        , 0.        , 0.        ,\n",
       "        0.        , 0.        , 0.        ],\n",
       "       [0.        , 0.        , 0.        , 0.        , 0.        ,\n",
       "        0.        , 0.        , 0.        , 0.        , 0.        ,\n",
       "        0.        , 0.        , 0.        , 0.        , 0.        ,\n",
       "        0.        , 0.        , 0.        , 0.        , 0.        ,\n",
       "        0.        , 0.        , 0.        , 0.        , 0.        ,\n",
       "        0.        , 0.        , 0.        ],\n",
       "       [0.        , 0.        , 0.        , 0.        , 0.        ,\n",
       "        0.        , 0.        , 0.        , 0.        , 0.        ,\n",
       "        0.        , 0.        , 0.        , 0.        , 0.        ,\n",
       "        0.        , 0.        , 0.        , 0.        , 0.        ,\n",
       "        0.        , 0.        , 0.        , 0.        , 0.        ,\n",
       "        0.        , 0.        , 0.        ],\n",
       "       [0.        , 0.        , 0.        , 0.        , 0.        ,\n",
       "        0.        , 0.        , 0.        , 0.        , 0.        ,\n",
       "        0.        , 0.        , 0.        , 0.        , 0.        ,\n",
       "        0.        , 0.        , 0.        , 0.        , 0.        ,\n",
       "        0.        , 0.        , 0.        , 0.        , 0.        ,\n",
       "        0.        , 0.        , 0.        ],\n",
       "       [0.        , 0.        , 0.        , 0.        , 0.        ,\n",
       "        0.        , 0.        , 0.        , 0.        , 0.        ,\n",
       "        0.        , 0.        , 0.01176471, 0.07058824, 0.07058824,\n",
       "        0.07058824, 0.49411765, 0.53333336, 0.6862745 , 0.10196079,\n",
       "        0.6509804 , 1.        , 0.96862745, 0.49803922, 0.        ,\n",
       "        0.        , 0.        , 0.        ],\n",
       "       [0.        , 0.        , 0.        , 0.        , 0.        ,\n",
       "        0.        , 0.        , 0.        , 0.11764706, 0.14117648,\n",
       "        0.36862746, 0.6039216 , 0.6666667 , 0.99215686, 0.99215686,\n",
       "        0.99215686, 0.99215686, 0.99215686, 0.88235295, 0.6745098 ,\n",
       "        0.99215686, 0.9490196 , 0.7647059 , 0.2509804 , 0.        ,\n",
       "        0.        , 0.        , 0.        ],\n",
       "       [0.        , 0.        , 0.        , 0.        , 0.        ,\n",
       "        0.        , 0.        , 0.19215687, 0.93333334, 0.99215686,\n",
       "        0.99215686, 0.99215686, 0.99215686, 0.99215686, 0.99215686,\n",
       "        0.99215686, 0.99215686, 0.9843137 , 0.3647059 , 0.32156864,\n",
       "        0.32156864, 0.21960784, 0.15294118, 0.        , 0.        ,\n",
       "        0.        , 0.        , 0.        ],\n",
       "       [0.        , 0.        , 0.        , 0.        , 0.        ,\n",
       "        0.        , 0.        , 0.07058824, 0.85882354, 0.99215686,\n",
       "        0.99215686, 0.99215686, 0.99215686, 0.99215686, 0.7764706 ,\n",
       "        0.7137255 , 0.96862745, 0.94509804, 0.        , 0.        ,\n",
       "        0.        , 0.        , 0.        , 0.        , 0.        ,\n",
       "        0.        , 0.        , 0.        ],\n",
       "       [0.        , 0.        , 0.        , 0.        , 0.        ,\n",
       "        0.        , 0.        , 0.        , 0.3137255 , 0.6117647 ,\n",
       "        0.41960785, 0.99215686, 0.99215686, 0.8039216 , 0.04313726,\n",
       "        0.        , 0.16862746, 0.6039216 , 0.        , 0.        ,\n",
       "        0.        , 0.        , 0.        , 0.        , 0.        ,\n",
       "        0.        , 0.        , 0.        ],\n",
       "       [0.        , 0.        , 0.        , 0.        , 0.        ,\n",
       "        0.        , 0.        , 0.        , 0.        , 0.05490196,\n",
       "        0.00392157, 0.6039216 , 0.99215686, 0.3529412 , 0.        ,\n",
       "        0.        , 0.        , 0.        , 0.        , 0.        ,\n",
       "        0.        , 0.        , 0.        , 0.        , 0.        ,\n",
       "        0.        , 0.        , 0.        ],\n",
       "       [0.        , 0.        , 0.        , 0.        , 0.        ,\n",
       "        0.        , 0.        , 0.        , 0.        , 0.        ,\n",
       "        0.        , 0.54509807, 0.99215686, 0.74509805, 0.00784314,\n",
       "        0.        , 0.        , 0.        , 0.        , 0.        ,\n",
       "        0.        , 0.        , 0.        , 0.        , 0.        ,\n",
       "        0.        , 0.        , 0.        ],\n",
       "       [0.        , 0.        , 0.        , 0.        , 0.        ,\n",
       "        0.        , 0.        , 0.        , 0.        , 0.        ,\n",
       "        0.        , 0.04313726, 0.74509805, 0.99215686, 0.27450982,\n",
       "        0.        , 0.        , 0.        , 0.        , 0.        ,\n",
       "        0.        , 0.        , 0.        , 0.        , 0.        ,\n",
       "        0.        , 0.        , 0.        ],\n",
       "       [0.        , 0.        , 0.        , 0.        , 0.        ,\n",
       "        0.        , 0.        , 0.        , 0.        , 0.        ,\n",
       "        0.        , 0.        , 0.13725491, 0.94509804, 0.88235295,\n",
       "        0.627451  , 0.42352942, 0.00392157, 0.        , 0.        ,\n",
       "        0.        , 0.        , 0.        , 0.        , 0.        ,\n",
       "        0.        , 0.        , 0.        ],\n",
       "       [0.        , 0.        , 0.        , 0.        , 0.        ,\n",
       "        0.        , 0.        , 0.        , 0.        , 0.        ,\n",
       "        0.        , 0.        , 0.        , 0.31764707, 0.9411765 ,\n",
       "        0.99215686, 0.99215686, 0.46666667, 0.09803922, 0.        ,\n",
       "        0.        , 0.        , 0.        , 0.        , 0.        ,\n",
       "        0.        , 0.        , 0.        ],\n",
       "       [0.        , 0.        , 0.        , 0.        , 0.        ,\n",
       "        0.        , 0.        , 0.        , 0.        , 0.        ,\n",
       "        0.        , 0.        , 0.        , 0.        , 0.1764706 ,\n",
       "        0.7294118 , 0.99215686, 0.99215686, 0.5882353 , 0.10588235,\n",
       "        0.        , 0.        , 0.        , 0.        , 0.        ,\n",
       "        0.        , 0.        , 0.        ],\n",
       "       [0.        , 0.        , 0.        , 0.        , 0.        ,\n",
       "        0.        , 0.        , 0.        , 0.        , 0.        ,\n",
       "        0.        , 0.        , 0.        , 0.        , 0.        ,\n",
       "        0.0627451 , 0.3647059 , 0.9882353 , 0.99215686, 0.73333335,\n",
       "        0.        , 0.        , 0.        , 0.        , 0.        ,\n",
       "        0.        , 0.        , 0.        ],\n",
       "       [0.        , 0.        , 0.        , 0.        , 0.        ,\n",
       "        0.        , 0.        , 0.        , 0.        , 0.        ,\n",
       "        0.        , 0.        , 0.        , 0.        , 0.        ,\n",
       "        0.        , 0.        , 0.9764706 , 0.99215686, 0.9764706 ,\n",
       "        0.2509804 , 0.        , 0.        , 0.        , 0.        ,\n",
       "        0.        , 0.        , 0.        ],\n",
       "       [0.        , 0.        , 0.        , 0.        , 0.        ,\n",
       "        0.        , 0.        , 0.        , 0.        , 0.        ,\n",
       "        0.        , 0.        , 0.        , 0.        , 0.18039216,\n",
       "        0.50980395, 0.7176471 , 0.99215686, 0.99215686, 0.8117647 ,\n",
       "        0.00784314, 0.        , 0.        , 0.        , 0.        ,\n",
       "        0.        , 0.        , 0.        ],\n",
       "       [0.        , 0.        , 0.        , 0.        , 0.        ,\n",
       "        0.        , 0.        , 0.        , 0.        , 0.        ,\n",
       "        0.        , 0.        , 0.15294118, 0.5803922 , 0.8980392 ,\n",
       "        0.99215686, 0.99215686, 0.99215686, 0.98039216, 0.7137255 ,\n",
       "        0.        , 0.        , 0.        , 0.        , 0.        ,\n",
       "        0.        , 0.        , 0.        ],\n",
       "       [0.        , 0.        , 0.        , 0.        , 0.        ,\n",
       "        0.        , 0.        , 0.        , 0.        , 0.        ,\n",
       "        0.09411765, 0.44705883, 0.8666667 , 0.99215686, 0.99215686,\n",
       "        0.99215686, 0.99215686, 0.7882353 , 0.30588236, 0.        ,\n",
       "        0.        , 0.        , 0.        , 0.        , 0.        ,\n",
       "        0.        , 0.        , 0.        ],\n",
       "       [0.        , 0.        , 0.        , 0.        , 0.        ,\n",
       "        0.        , 0.        , 0.        , 0.09019608, 0.25882354,\n",
       "        0.8352941 , 0.99215686, 0.99215686, 0.99215686, 0.99215686,\n",
       "        0.7764706 , 0.31764707, 0.00784314, 0.        , 0.        ,\n",
       "        0.        , 0.        , 0.        , 0.        , 0.        ,\n",
       "        0.        , 0.        , 0.        ],\n",
       "       [0.        , 0.        , 0.        , 0.        , 0.        ,\n",
       "        0.        , 0.07058824, 0.67058825, 0.85882354, 0.99215686,\n",
       "        0.99215686, 0.99215686, 0.99215686, 0.7647059 , 0.3137255 ,\n",
       "        0.03529412, 0.        , 0.        , 0.        , 0.        ,\n",
       "        0.        , 0.        , 0.        , 0.        , 0.        ,\n",
       "        0.        , 0.        , 0.        ],\n",
       "       [0.        , 0.        , 0.        , 0.        , 0.21568628,\n",
       "        0.6745098 , 0.8862745 , 0.99215686, 0.99215686, 0.99215686,\n",
       "        0.99215686, 0.95686275, 0.52156866, 0.04313726, 0.        ,\n",
       "        0.        , 0.        , 0.        , 0.        , 0.        ,\n",
       "        0.        , 0.        , 0.        , 0.        , 0.        ,\n",
       "        0.        , 0.        , 0.        ],\n",
       "       [0.        , 0.        , 0.        , 0.        , 0.53333336,\n",
       "        0.99215686, 0.99215686, 0.99215686, 0.83137256, 0.5294118 ,\n",
       "        0.5176471 , 0.0627451 , 0.        , 0.        , 0.        ,\n",
       "        0.        , 0.        , 0.        , 0.        , 0.        ,\n",
       "        0.        , 0.        , 0.        , 0.        , 0.        ,\n",
       "        0.        , 0.        , 0.        ],\n",
       "       [0.        , 0.        , 0.        , 0.        , 0.        ,\n",
       "        0.        , 0.        , 0.        , 0.        , 0.        ,\n",
       "        0.        , 0.        , 0.        , 0.        , 0.        ,\n",
       "        0.        , 0.        , 0.        , 0.        , 0.        ,\n",
       "        0.        , 0.        , 0.        , 0.        , 0.        ,\n",
       "        0.        , 0.        , 0.        ],\n",
       "       [0.        , 0.        , 0.        , 0.        , 0.        ,\n",
       "        0.        , 0.        , 0.        , 0.        , 0.        ,\n",
       "        0.        , 0.        , 0.        , 0.        , 0.        ,\n",
       "        0.        , 0.        , 0.        , 0.        , 0.        ,\n",
       "        0.        , 0.        , 0.        , 0.        , 0.        ,\n",
       "        0.        , 0.        , 0.        ],\n",
       "       [0.        , 0.        , 0.        , 0.        , 0.        ,\n",
       "        0.        , 0.        , 0.        , 0.        , 0.        ,\n",
       "        0.        , 0.        , 0.        , 0.        , 0.        ,\n",
       "        0.        , 0.        , 0.        , 0.        , 0.        ,\n",
       "        0.        , 0.        , 0.        , 0.        , 0.        ,\n",
       "        0.        , 0.        , 0.        ]], dtype=float32)"
      ]
     },
     "execution_count": 23,
     "metadata": {},
     "output_type": "execute_result"
    }
   ],
   "source": [
    "'''\n",
    "Comprobamos la normalización\n",
    "'''\n",
    "X_train[0]"
   ]
  },
  {
   "cell_type": "code",
   "execution_count": 24,
   "metadata": {},
   "outputs": [],
   "source": [
    "y_train = y_train.astype(\"float32\")\n",
    "y_test = y_test.astype(\"float32\")"
   ]
  },
  {
   "attachments": {},
   "cell_type": "markdown",
   "metadata": {},
   "source": [
    "Guardamos datos para validación. Estos datos se usarán durante el entrenamiento. Otra opción es decirle a keras en la etapa de entrenamiento que reserve un X % de los datos para validar."
   ]
  },
  {
   "cell_type": "code",
   "execution_count": 25,
   "metadata": {},
   "outputs": [],
   "source": [
    "X_val = X_train[-10000:]\n",
    "y_val = y_train[-10000:]\n",
    "\n",
    "X_train = X_train[:-10000]\n",
    "y_train = y_train[:-10000]"
   ]
  },
  {
   "cell_type": "code",
   "execution_count": 26,
   "metadata": {},
   "outputs": [
    {
     "name": "stdout",
     "output_type": "stream",
     "text": [
      "(50000, 28, 28)\n",
      "(10000, 28, 28)\n",
      "(10000, 28, 28)\n"
     ]
    }
   ],
   "source": [
    "print(X_train.shape)\n",
    "print(X_val.shape)\n",
    "print(X_test.shape)"
   ]
  },
  {
   "attachments": {},
   "cell_type": "markdown",
   "metadata": {},
   "source": [
    "Montamos la arquitectura de la red neuronal. Se va a componer de:\n",
    "* **Sequential**: API para iniciar la red neuronal. No cuenta como capa.\n",
    "* **Flatten**: capa de entrada. Necesita un vector unidimensional. Como tenemos imágenes, esta capa aplana las imagenes (2D) en 1D.\n",
    "* **Dense**: es una hidden layer. Se compondrá de `n` neuronas y de una función de activación que se aplicará a todas las neuronas de la capa.\n",
    "\n",
    "Recuerda que es un problema de clasificación multiclase (10 clases) y que por tanto la última capa se compondrá de tantas neuronas como clases tengas.\n",
    "\n",
    "En cuanto a las funciones de activación es recomendable usar relu en las hidden layer, que tarda menos en entrenar, mientras que la ultima (output) suele ser una softmax."
   ]
  },
  {
   "cell_type": "code",
   "execution_count": 28,
   "metadata": {},
   "outputs": [],
   "source": [
    "model = keras.models.Sequential()\n",
    "\n",
    "# Capa entrada\n",
    "model.add(keras.layers.Flatten(input_shape=(28, 28)))\n",
    "\n",
    "# Hidden layer\n",
    "model.add(keras.layers.Dense(units = 300,\n",
    "                            activation='relu'))\n",
    "\n",
    "# Hidden layer\n",
    "model.add(keras.layers.Dense(units = 100,\n",
    "                            activation='relu'))\n",
    "\n",
    "# Capa salida\n",
    "model.add(keras.layers.Dense(units = 10,\n",
    "                            activation='softmax'))"
   ]
  },
  {
   "cell_type": "code",
   "execution_count": 30,
   "metadata": {},
   "outputs": [],
   "source": [
    "# Otra manera de declarar la red neuronal\n",
    "capas = [\n",
    "    keras.layers.Flatten(input_shape=(28, 28)),\n",
    "    keras.layers.Dense(units = 300, activation='relu'),\n",
    "    keras.layers.Dense(units = 100, activation='relu'),\n",
    "    keras.layers.Dense(units = 10, activation='softmax')\n",
    "]\n",
    "\n",
    "model = keras.models.Sequential(capas)"
   ]
  },
  {
   "attachments": {},
   "cell_type": "markdown",
   "metadata": {},
   "source": [
    "Podemos ver las capas, y acceder a sus elementos"
   ]
  },
  {
   "cell_type": "code",
   "execution_count": 31,
   "metadata": {},
   "outputs": [
    {
     "name": "stdout",
     "output_type": "stream",
     "text": [
      "<keras.layers.reshaping.flatten.Flatten object at 0x000001E22681C750>\n"
     ]
    }
   ],
   "source": [
    "print(model.layers[0])"
   ]
  },
  {
   "attachments": {},
   "cell_type": "markdown",
   "metadata": {},
   "source": [
    "Podemos ver los pesos de las capas sin entrenar, porque los inicializa aleatoriamente. Los bias los inicializa a 0."
   ]
  },
  {
   "cell_type": "code",
   "execution_count": 32,
   "metadata": {},
   "outputs": [],
   "source": [
    "hidden1 = model.layers[1]\n",
    "weights, biases = hidden1.get_weights()"
   ]
  },
  {
   "cell_type": "code",
   "execution_count": 33,
   "metadata": {
    "collapsed": true,
    "jupyter": {
     "outputs_hidden": true
    },
    "tags": []
   },
   "outputs": [
    {
     "data": {
      "text/plain": [
       "300"
      ]
     },
     "execution_count": 33,
     "metadata": {},
     "output_type": "execute_result"
    }
   ],
   "source": [
    "len(weights[0])"
   ]
  },
  {
   "cell_type": "code",
   "execution_count": 34,
   "metadata": {},
   "outputs": [
    {
     "data": {
      "text/plain": [
       "784"
      ]
     },
     "execution_count": 34,
     "metadata": {},
     "output_type": "execute_result"
    }
   ],
   "source": [
    "28*28"
   ]
  },
  {
   "cell_type": "code",
   "execution_count": 35,
   "metadata": {},
   "outputs": [
    {
     "data": {
      "text/plain": [
       "235200"
      ]
     },
     "execution_count": 35,
     "metadata": {},
     "output_type": "execute_result"
    }
   ],
   "source": [
    "300*784"
   ]
  },
  {
   "cell_type": "code",
   "execution_count": 36,
   "metadata": {},
   "outputs": [
    {
     "data": {
      "text/plain": [
       "235200"
      ]
     },
     "execution_count": 36,
     "metadata": {},
     "output_type": "execute_result"
    }
   ],
   "source": [
    "weights.size"
   ]
  },
  {
   "cell_type": "code",
   "execution_count": 37,
   "metadata": {},
   "outputs": [
    {
     "data": {
      "text/plain": [
       "array([0., 0., 0., 0., 0., 0., 0., 0., 0., 0., 0., 0., 0., 0., 0., 0., 0.,\n",
       "       0., 0., 0.], dtype=float32)"
      ]
     },
     "execution_count": 37,
     "metadata": {},
     "output_type": "execute_result"
    }
   ],
   "source": [
    "biases[:20]"
   ]
  },
  {
   "attachments": {},
   "cell_type": "markdown",
   "metadata": {},
   "source": [
    "Establecemos la configuración de ejecución... el compile."
   ]
  },
  {
   "cell_type": "code",
   "execution_count": 38,
   "metadata": {},
   "outputs": [],
   "source": [
    "model.compile(\n",
    "    optimizer = keras.optimizers.SGD(),\n",
    "    loss = keras.losses.SparseCategoricalCrossentropy(),\n",
    "    metrics = [keras.metrics.SparseCategoricalAccuracy()]\n",
    ")"
   ]
  },
  {
   "cell_type": "code",
   "execution_count": 39,
   "metadata": {},
   "outputs": [],
   "source": [
    "# Equivalente\n",
    "model.compile(\n",
    "    optimizer = \"sgd\",\n",
    "    loss = \"sparse_categorical_crossentropy\",\n",
    "    metrics = [\"accuracy\"]\n",
    ")"
   ]
  },
  {
   "cell_type": "code",
   "execution_count": 40,
   "metadata": {
    "tags": []
   },
   "outputs": [
    {
     "name": "stdout",
     "output_type": "stream",
     "text": [
      "Model: \"sequential_3\"\n",
      "_________________________________________________________________\n",
      " Layer (type)                Output Shape              Param #   \n",
      "=================================================================\n",
      " flatten_3 (Flatten)         (None, 784)               0         \n",
      "                                                                 \n",
      " dense_9 (Dense)             (None, 300)               235500    \n",
      "                                                                 \n",
      " dense_10 (Dense)            (None, 100)               30100     \n",
      "                                                                 \n",
      " dense_11 (Dense)            (None, 10)                1010      \n",
      "                                                                 \n",
      "=================================================================\n",
      "Total params: 266,610\n",
      "Trainable params: 266,610\n",
      "Non-trainable params: 0\n",
      "_________________________________________________________________\n"
     ]
    }
   ],
   "source": [
    "# Summary\n",
    "model.summary()"
   ]
  },
  {
   "attachments": {},
   "cell_type": "markdown",
   "metadata": {},
   "source": [
    "Entrenamos el modelo. Usamos los datos de entrenamiento. El batch_size es la cantidad de muestras que utiliza el SGD, y las epochs son las iteraciones que realiza en el entrenamiento."
   ]
  },
  {
   "cell_type": "code",
   "execution_count": 41,
   "metadata": {},
   "outputs": [
    {
     "data": {
      "text/plain": [
       "(50000, 28, 28)"
      ]
     },
     "execution_count": 41,
     "metadata": {},
     "output_type": "execute_result"
    }
   ],
   "source": [
    "X_train.shape"
   ]
  },
  {
   "cell_type": "code",
   "execution_count": 42,
   "metadata": {},
   "outputs": [
    {
     "data": {
      "text/plain": [
       "390.625"
      ]
     },
     "execution_count": 42,
     "metadata": {},
     "output_type": "execute_result"
    }
   ],
   "source": [
    "50000/128"
   ]
  },
  {
   "cell_type": "code",
   "execution_count": 43,
   "metadata": {
    "tags": []
   },
   "outputs": [
    {
     "name": "stdout",
     "output_type": "stream",
     "text": [
      "Epoch 1/50\n",
      "391/391 [==============================] - 2s 4ms/step - loss: 1.2576 - accuracy: 0.6951 - val_loss: 0.6028 - val_accuracy: 0.8691\n",
      "Epoch 2/50\n",
      "391/391 [==============================] - 1s 3ms/step - loss: 0.5153 - accuracy: 0.8698 - val_loss: 0.3918 - val_accuracy: 0.9006\n",
      "Epoch 3/50\n",
      "391/391 [==============================] - 1s 3ms/step - loss: 0.3937 - accuracy: 0.8933 - val_loss: 0.3321 - val_accuracy: 0.9111\n",
      "Epoch 4/50\n",
      "391/391 [==============================] - 1s 3ms/step - loss: 0.3450 - accuracy: 0.9042 - val_loss: 0.3009 - val_accuracy: 0.9159\n",
      "Epoch 5/50\n",
      "391/391 [==============================] - 1s 3ms/step - loss: 0.3160 - accuracy: 0.9116 - val_loss: 0.2808 - val_accuracy: 0.9216\n",
      "Epoch 6/50\n",
      "391/391 [==============================] - 1s 3ms/step - loss: 0.2945 - accuracy: 0.9173 - val_loss: 0.2640 - val_accuracy: 0.9255\n",
      "Epoch 7/50\n",
      "391/391 [==============================] - 1s 4ms/step - loss: 0.2778 - accuracy: 0.9214 - val_loss: 0.2503 - val_accuracy: 0.9290\n",
      "Epoch 8/50\n",
      "391/391 [==============================] - 2s 4ms/step - loss: 0.2636 - accuracy: 0.9254 - val_loss: 0.2414 - val_accuracy: 0.9320\n",
      "Epoch 9/50\n",
      "391/391 [==============================] - 1s 4ms/step - loss: 0.2516 - accuracy: 0.9292 - val_loss: 0.2311 - val_accuracy: 0.9338\n",
      "Epoch 10/50\n",
      "391/391 [==============================] - 1s 4ms/step - loss: 0.2406 - accuracy: 0.9318 - val_loss: 0.2220 - val_accuracy: 0.9377\n",
      "Epoch 11/50\n",
      "391/391 [==============================] - 2s 4ms/step - loss: 0.2309 - accuracy: 0.9342 - val_loss: 0.2133 - val_accuracy: 0.9385\n",
      "Epoch 12/50\n",
      "391/391 [==============================] - 1s 3ms/step - loss: 0.2219 - accuracy: 0.9370 - val_loss: 0.2073 - val_accuracy: 0.9424\n",
      "Epoch 13/50\n",
      "391/391 [==============================] - 1s 4ms/step - loss: 0.2138 - accuracy: 0.9391 - val_loss: 0.1999 - val_accuracy: 0.9431\n",
      "Epoch 14/50\n",
      "391/391 [==============================] - 1s 4ms/step - loss: 0.2064 - accuracy: 0.9417 - val_loss: 0.1936 - val_accuracy: 0.9455\n",
      "Epoch 15/50\n",
      "391/391 [==============================] - 1s 4ms/step - loss: 0.1992 - accuracy: 0.9440 - val_loss: 0.1882 - val_accuracy: 0.9475\n",
      "Epoch 16/50\n",
      "391/391 [==============================] - 2s 4ms/step - loss: 0.1926 - accuracy: 0.9455 - val_loss: 0.1825 - val_accuracy: 0.9499\n",
      "Epoch 17/50\n",
      "391/391 [==============================] - 1s 4ms/step - loss: 0.1864 - accuracy: 0.9474 - val_loss: 0.1776 - val_accuracy: 0.9513\n",
      "Epoch 18/50\n",
      "391/391 [==============================] - 2s 4ms/step - loss: 0.1806 - accuracy: 0.9492 - val_loss: 0.1737 - val_accuracy: 0.9512\n",
      "Epoch 19/50\n",
      "391/391 [==============================] - 1s 4ms/step - loss: 0.1751 - accuracy: 0.9507 - val_loss: 0.1683 - val_accuracy: 0.9538\n",
      "Epoch 20/50\n",
      "391/391 [==============================] - 1s 3ms/step - loss: 0.1697 - accuracy: 0.9521 - val_loss: 0.1657 - val_accuracy: 0.9529\n",
      "Epoch 21/50\n",
      "391/391 [==============================] - 1s 4ms/step - loss: 0.1650 - accuracy: 0.9532 - val_loss: 0.1601 - val_accuracy: 0.9561\n",
      "Epoch 22/50\n",
      "391/391 [==============================] - 1s 4ms/step - loss: 0.1600 - accuracy: 0.9545 - val_loss: 0.1568 - val_accuracy: 0.9574\n",
      "Epoch 23/50\n",
      "391/391 [==============================] - 2s 4ms/step - loss: 0.1556 - accuracy: 0.9555 - val_loss: 0.1532 - val_accuracy: 0.9577\n",
      "Epoch 24/50\n",
      "391/391 [==============================] - 1s 4ms/step - loss: 0.1513 - accuracy: 0.9566 - val_loss: 0.1509 - val_accuracy: 0.9585\n",
      "Epoch 25/50\n",
      "391/391 [==============================] - 1s 3ms/step - loss: 0.1472 - accuracy: 0.9577 - val_loss: 0.1472 - val_accuracy: 0.9592\n",
      "Epoch 26/50\n",
      "391/391 [==============================] - 1s 3ms/step - loss: 0.1435 - accuracy: 0.9592 - val_loss: 0.1447 - val_accuracy: 0.9603\n",
      "Epoch 27/50\n",
      "391/391 [==============================] - 1s 3ms/step - loss: 0.1396 - accuracy: 0.9604 - val_loss: 0.1426 - val_accuracy: 0.9612\n",
      "Epoch 28/50\n",
      "391/391 [==============================] - 1s 3ms/step - loss: 0.1361 - accuracy: 0.9612 - val_loss: 0.1394 - val_accuracy: 0.9609\n",
      "Epoch 29/50\n",
      "391/391 [==============================] - 1s 3ms/step - loss: 0.1328 - accuracy: 0.9625 - val_loss: 0.1366 - val_accuracy: 0.9628\n",
      "Epoch 30/50\n",
      "391/391 [==============================] - 1s 4ms/step - loss: 0.1294 - accuracy: 0.9636 - val_loss: 0.1349 - val_accuracy: 0.9626\n",
      "Epoch 31/50\n",
      "391/391 [==============================] - 1s 4ms/step - loss: 0.1263 - accuracy: 0.9648 - val_loss: 0.1337 - val_accuracy: 0.9631\n",
      "Epoch 32/50\n",
      "391/391 [==============================] - 1s 4ms/step - loss: 0.1232 - accuracy: 0.9657 - val_loss: 0.1315 - val_accuracy: 0.9624\n",
      "Epoch 33/50\n",
      "391/391 [==============================] - 1s 4ms/step - loss: 0.1204 - accuracy: 0.9666 - val_loss: 0.1281 - val_accuracy: 0.9651\n",
      "Epoch 34/50\n",
      "391/391 [==============================] - 1s 3ms/step - loss: 0.1176 - accuracy: 0.9673 - val_loss: 0.1266 - val_accuracy: 0.9647\n",
      "Epoch 35/50\n",
      "391/391 [==============================] - 1s 3ms/step - loss: 0.1149 - accuracy: 0.9682 - val_loss: 0.1254 - val_accuracy: 0.9656\n",
      "Epoch 36/50\n",
      "391/391 [==============================] - 1s 3ms/step - loss: 0.1123 - accuracy: 0.9688 - val_loss: 0.1233 - val_accuracy: 0.9659\n",
      "Epoch 37/50\n",
      "391/391 [==============================] - 1s 3ms/step - loss: 0.1097 - accuracy: 0.9698 - val_loss: 0.1213 - val_accuracy: 0.9675\n",
      "Epoch 38/50\n",
      "391/391 [==============================] - 1s 3ms/step - loss: 0.1073 - accuracy: 0.9706 - val_loss: 0.1196 - val_accuracy: 0.9672\n",
      "Epoch 39/50\n",
      "391/391 [==============================] - 1s 3ms/step - loss: 0.1052 - accuracy: 0.9710 - val_loss: 0.1184 - val_accuracy: 0.9676\n",
      "Epoch 40/50\n",
      "391/391 [==============================] - 1s 3ms/step - loss: 0.1028 - accuracy: 0.9717 - val_loss: 0.1174 - val_accuracy: 0.9676\n",
      "Epoch 41/50\n",
      "391/391 [==============================] - 1s 3ms/step - loss: 0.1005 - accuracy: 0.9726 - val_loss: 0.1149 - val_accuracy: 0.9684\n",
      "Epoch 42/50\n",
      "391/391 [==============================] - 1s 3ms/step - loss: 0.0985 - accuracy: 0.9732 - val_loss: 0.1141 - val_accuracy: 0.9683\n",
      "Epoch 43/50\n",
      "391/391 [==============================] - 1s 3ms/step - loss: 0.0966 - accuracy: 0.9734 - val_loss: 0.1124 - val_accuracy: 0.9690\n",
      "Epoch 44/50\n",
      "391/391 [==============================] - 1s 4ms/step - loss: 0.0946 - accuracy: 0.9739 - val_loss: 0.1113 - val_accuracy: 0.9689\n",
      "Epoch 45/50\n",
      "391/391 [==============================] - 1s 3ms/step - loss: 0.0927 - accuracy: 0.9745 - val_loss: 0.1096 - val_accuracy: 0.9700\n",
      "Epoch 46/50\n",
      "391/391 [==============================] - 1s 4ms/step - loss: 0.0909 - accuracy: 0.9752 - val_loss: 0.1087 - val_accuracy: 0.9697\n",
      "Epoch 47/50\n",
      "391/391 [==============================] - 1s 3ms/step - loss: 0.0889 - accuracy: 0.9757 - val_loss: 0.1077 - val_accuracy: 0.9695\n",
      "Epoch 48/50\n",
      "391/391 [==============================] - 1s 3ms/step - loss: 0.0873 - accuracy: 0.9763 - val_loss: 0.1063 - val_accuracy: 0.9700\n",
      "Epoch 49/50\n",
      "391/391 [==============================] - 1s 4ms/step - loss: 0.0856 - accuracy: 0.9765 - val_loss: 0.1060 - val_accuracy: 0.9699\n",
      "Epoch 50/50\n",
      "391/391 [==============================] - 1s 3ms/step - loss: 0.0839 - accuracy: 0.9772 - val_loss: 0.1053 - val_accuracy: 0.9691\n"
     ]
    }
   ],
   "source": [
    "history = model.fit(\n",
    "    X_train,\n",
    "    y_train,\n",
    "    batch_size = 128,\n",
    "    epochs = 50,\n",
    "    validation_data = (X_val, y_val) # validation_split = 0.1\n",
    ")"
   ]
  },
  {
   "attachments": {},
   "cell_type": "markdown",
   "metadata": {},
   "source": [
    "Podemos reentrenar el modelo. No empieza de nuevo, sino que retoma el entrenamiento anterior."
   ]
  },
  {
   "cell_type": "code",
   "execution_count": 44,
   "metadata": {},
   "outputs": [
    {
     "name": "stdout",
     "output_type": "stream",
     "text": [
      "Epoch 1/10\n",
      "782/782 [==============================] - 2s 3ms/step - loss: 0.0835 - accuracy: 0.9772 - val_loss: 0.1030 - val_accuracy: 0.9702\n",
      "Epoch 2/10\n",
      "782/782 [==============================] - 2s 2ms/step - loss: 0.0805 - accuracy: 0.9779 - val_loss: 0.1034 - val_accuracy: 0.9707\n",
      "Epoch 3/10\n",
      "782/782 [==============================] - 2s 2ms/step - loss: 0.0775 - accuracy: 0.9788 - val_loss: 0.1029 - val_accuracy: 0.9707\n",
      "Epoch 4/10\n",
      "782/782 [==============================] - 2s 2ms/step - loss: 0.0745 - accuracy: 0.9801 - val_loss: 0.0980 - val_accuracy: 0.9717\n",
      "Epoch 5/10\n",
      "782/782 [==============================] - 2s 2ms/step - loss: 0.0722 - accuracy: 0.9807 - val_loss: 0.0979 - val_accuracy: 0.9710\n",
      "Epoch 6/10\n",
      "782/782 [==============================] - 2s 2ms/step - loss: 0.0697 - accuracy: 0.9812 - val_loss: 0.0973 - val_accuracy: 0.9717\n",
      "Epoch 7/10\n",
      "782/782 [==============================] - 2s 2ms/step - loss: 0.0672 - accuracy: 0.9819 - val_loss: 0.1136 - val_accuracy: 0.9654\n",
      "Epoch 8/10\n",
      "782/782 [==============================] - 2s 2ms/step - loss: 0.0652 - accuracy: 0.9824 - val_loss: 0.0938 - val_accuracy: 0.9728\n",
      "Epoch 9/10\n",
      "782/782 [==============================] - 2s 2ms/step - loss: 0.0631 - accuracy: 0.9831 - val_loss: 0.0934 - val_accuracy: 0.9722\n",
      "Epoch 10/10\n",
      "782/782 [==============================] - 2s 2ms/step - loss: 0.0607 - accuracy: 0.9834 - val_loss: 0.0907 - val_accuracy: 0.9737\n"
     ]
    },
    {
     "data": {
      "text/plain": [
       "<keras.callbacks.History at 0x1e229803990>"
      ]
     },
     "execution_count": 44,
     "metadata": {},
     "output_type": "execute_result"
    }
   ],
   "source": [
    "model.fit(\n",
    "    X_train,\n",
    "    y_train,\n",
    "    batch_size = 64,\n",
    "    epochs = 10,\n",
    "    validation_data = (X_val, y_val) # validation_split = 0.1\n",
    ")"
   ]
  },
  {
   "attachments": {},
   "cell_type": "markdown",
   "metadata": {},
   "source": [
    "Veamos el histórico del entrenamiento, para poder representarlo posteriormente."
   ]
  },
  {
   "cell_type": "code",
   "execution_count": 45,
   "metadata": {
    "collapsed": true,
    "jupyter": {
     "outputs_hidden": true
    },
    "tags": []
   },
   "outputs": [
    {
     "name": "stdout",
     "output_type": "stream",
     "text": [
      "{'verbose': 1, 'epochs': 50, 'steps': 391}\n",
      "[0, 1, 2, 3, 4, 5, 6, 7, 8, 9, 10, 11, 12, 13, 14, 15, 16, 17, 18, 19, 20, 21, 22, 23, 24, 25, 26, 27, 28, 29, 30, 31, 32, 33, 34, 35, 36, 37, 38, 39, 40, 41, 42, 43, 44, 45, 46, 47, 48, 49]\n"
     ]
    },
    {
     "data": {
      "text/plain": [
       "{'loss': [1.2576391696929932,\n",
       "  0.5152754187583923,\n",
       "  0.3937152624130249,\n",
       "  0.34503868222236633,\n",
       "  0.31597548723220825,\n",
       "  0.2945042550563812,\n",
       "  0.277835488319397,\n",
       "  0.2636234760284424,\n",
       "  0.2515985071659088,\n",
       "  0.24057801067829132,\n",
       "  0.2308829128742218,\n",
       "  0.2219352126121521,\n",
       "  0.21376529335975647,\n",
       "  0.20636364817619324,\n",
       "  0.1991523951292038,\n",
       "  0.1926283985376358,\n",
       "  0.1863674819469452,\n",
       "  0.18061962723731995,\n",
       "  0.1751278191804886,\n",
       "  0.16973501443862915,\n",
       "  0.16499826312065125,\n",
       "  0.16002316772937775,\n",
       "  0.15557709336280823,\n",
       "  0.15128463506698608,\n",
       "  0.14720338582992554,\n",
       "  0.14347125589847565,\n",
       "  0.13961467146873474,\n",
       "  0.13614673912525177,\n",
       "  0.13276848196983337,\n",
       "  0.1294366866350174,\n",
       "  0.12629394233226776,\n",
       "  0.12321383506059647,\n",
       "  0.1203780397772789,\n",
       "  0.11758865416049957,\n",
       "  0.11487507820129395,\n",
       "  0.11230047047138214,\n",
       "  0.10971536487340927,\n",
       "  0.10733534395694733,\n",
       "  0.105235256254673,\n",
       "  0.1028062179684639,\n",
       "  0.1005258858203888,\n",
       "  0.09849056601524353,\n",
       "  0.0966031476855278,\n",
       "  0.09458985179662704,\n",
       "  0.09272824227809906,\n",
       "  0.09087467938661575,\n",
       "  0.08892513066530228,\n",
       "  0.08727467805147171,\n",
       "  0.08555780351161957,\n",
       "  0.08386272192001343],\n",
       " 'accuracy': [0.6950799822807312,\n",
       "  0.8697599768638611,\n",
       "  0.893339991569519,\n",
       "  0.9041600227355957,\n",
       "  0.9115999937057495,\n",
       "  0.9173200130462646,\n",
       "  0.9213600158691406,\n",
       "  0.9254199862480164,\n",
       "  0.9291800260543823,\n",
       "  0.9318000078201294,\n",
       "  0.934220016002655,\n",
       "  0.9370200037956238,\n",
       "  0.939079999923706,\n",
       "  0.9417399764060974,\n",
       "  0.9439600110054016,\n",
       "  0.9455199837684631,\n",
       "  0.9473999738693237,\n",
       "  0.9491599798202515,\n",
       "  0.9506800174713135,\n",
       "  0.9520800113677979,\n",
       "  0.9531599879264832,\n",
       "  0.954479992389679,\n",
       "  0.9554600119590759,\n",
       "  0.9565799832344055,\n",
       "  0.9577400088310242,\n",
       "  0.9591599702835083,\n",
       "  0.9603999853134155,\n",
       "  0.9611799716949463,\n",
       "  0.9624599814414978,\n",
       "  0.9635800123214722,\n",
       "  0.9648200273513794,\n",
       "  0.9656599760055542,\n",
       "  0.9665600061416626,\n",
       "  0.9672999978065491,\n",
       "  0.9682199954986572,\n",
       "  0.9688400030136108,\n",
       "  0.9698200225830078,\n",
       "  0.9706400036811829,\n",
       "  0.9710000157356262,\n",
       "  0.9717400074005127,\n",
       "  0.9725599884986877,\n",
       "  0.9731799960136414,\n",
       "  0.9733999967575073,\n",
       "  0.9738600254058838,\n",
       "  0.9744600057601929,\n",
       "  0.9752399921417236,\n",
       "  0.9757000207901001,\n",
       "  0.9763000011444092,\n",
       "  0.9765200018882751,\n",
       "  0.9771599769592285],\n",
       " 'val_loss': [0.6027509570121765,\n",
       "  0.39179930090904236,\n",
       "  0.3320727050304413,\n",
       "  0.3008858263492584,\n",
       "  0.28080493211746216,\n",
       "  0.2640237808227539,\n",
       "  0.2502540946006775,\n",
       "  0.24139316380023956,\n",
       "  0.2311498075723648,\n",
       "  0.22196835279464722,\n",
       "  0.2132689654827118,\n",
       "  0.20729707181453705,\n",
       "  0.19990451633930206,\n",
       "  0.19363386929035187,\n",
       "  0.18819287419319153,\n",
       "  0.1825302094221115,\n",
       "  0.17757810652256012,\n",
       "  0.17373208701610565,\n",
       "  0.16834335029125214,\n",
       "  0.16565218567848206,\n",
       "  0.1601022630929947,\n",
       "  0.1567877233028412,\n",
       "  0.15323913097381592,\n",
       "  0.15093837678432465,\n",
       "  0.14720533788204193,\n",
       "  0.1447337567806244,\n",
       "  0.14261266589164734,\n",
       "  0.1394060254096985,\n",
       "  0.1366388499736786,\n",
       "  0.13494931161403656,\n",
       "  0.133672297000885,\n",
       "  0.1314954161643982,\n",
       "  0.12812653183937073,\n",
       "  0.12659060955047607,\n",
       "  0.12537191808223724,\n",
       "  0.12329301983118057,\n",
       "  0.12132639437913895,\n",
       "  0.11964188516139984,\n",
       "  0.11844271421432495,\n",
       "  0.11739595979452133,\n",
       "  0.11489935219287872,\n",
       "  0.11411122977733612,\n",
       "  0.11242882162332535,\n",
       "  0.11125123500823975,\n",
       "  0.1095682755112648,\n",
       "  0.10868944227695465,\n",
       "  0.10772687941789627,\n",
       "  0.10631395131349564,\n",
       "  0.10600084066390991,\n",
       "  0.10530541837215424],\n",
       " 'val_accuracy': [0.8690999746322632,\n",
       "  0.900600016117096,\n",
       "  0.9110999703407288,\n",
       "  0.9158999919891357,\n",
       "  0.9215999841690063,\n",
       "  0.9254999756813049,\n",
       "  0.9290000200271606,\n",
       "  0.9319999814033508,\n",
       "  0.9337999820709229,\n",
       "  0.9376999735832214,\n",
       "  0.9384999871253967,\n",
       "  0.9423999786376953,\n",
       "  0.9430999755859375,\n",
       "  0.9455000162124634,\n",
       "  0.9474999904632568,\n",
       "  0.9498999714851379,\n",
       "  0.9513000249862671,\n",
       "  0.951200008392334,\n",
       "  0.9538000226020813,\n",
       "  0.9528999924659729,\n",
       "  0.9560999870300293,\n",
       "  0.9574000239372253,\n",
       "  0.9577000141143799,\n",
       "  0.9585000276565552,\n",
       "  0.9592000246047974,\n",
       "  0.9603000283241272,\n",
       "  0.9611999988555908,\n",
       "  0.9609000086784363,\n",
       "  0.9628000259399414,\n",
       "  0.9625999927520752,\n",
       "  0.963100016117096,\n",
       "  0.9624000191688538,\n",
       "  0.9650999903678894,\n",
       "  0.9646999835968018,\n",
       "  0.9656000137329102,\n",
       "  0.9659000039100647,\n",
       "  0.9674999713897705,\n",
       "  0.967199981212616,\n",
       "  0.9675999879837036,\n",
       "  0.9675999879837036,\n",
       "  0.9684000015258789,\n",
       "  0.9682999849319458,\n",
       "  0.968999981880188,\n",
       "  0.9689000248908997,\n",
       "  0.9700000286102295,\n",
       "  0.9696999788284302,\n",
       "  0.9695000052452087,\n",
       "  0.9700000286102295,\n",
       "  0.9699000120162964,\n",
       "  0.9690999984741211]}"
      ]
     },
     "execution_count": 45,
     "metadata": {},
     "output_type": "execute_result"
    }
   ],
   "source": [
    "print(history.params)\n",
    "print(history.epoch)\n",
    "history.history"
   ]
  },
  {
   "cell_type": "code",
   "execution_count": 48,
   "metadata": {},
   "outputs": [
    {
     "data": {
      "text/plain": [
       "{'loss': [1.2576391696929932,\n",
       "  0.5152754187583923,\n",
       "  0.3937152624130249,\n",
       "  0.34503868222236633,\n",
       "  0.31597548723220825,\n",
       "  0.2945042550563812,\n",
       "  0.277835488319397,\n",
       "  0.2636234760284424,\n",
       "  0.2515985071659088,\n",
       "  0.24057801067829132,\n",
       "  0.2308829128742218,\n",
       "  0.2219352126121521,\n",
       "  0.21376529335975647,\n",
       "  0.20636364817619324,\n",
       "  0.1991523951292038,\n",
       "  0.1926283985376358,\n",
       "  0.1863674819469452,\n",
       "  0.18061962723731995,\n",
       "  0.1751278191804886,\n",
       "  0.16973501443862915,\n",
       "  0.16499826312065125,\n",
       "  0.16002316772937775,\n",
       "  0.15557709336280823,\n",
       "  0.15128463506698608,\n",
       "  0.14720338582992554,\n",
       "  0.14347125589847565,\n",
       "  0.13961467146873474,\n",
       "  0.13614673912525177,\n",
       "  0.13276848196983337,\n",
       "  0.1294366866350174,\n",
       "  0.12629394233226776,\n",
       "  0.12321383506059647,\n",
       "  0.1203780397772789,\n",
       "  0.11758865416049957,\n",
       "  0.11487507820129395,\n",
       "  0.11230047047138214,\n",
       "  0.10971536487340927,\n",
       "  0.10733534395694733,\n",
       "  0.105235256254673,\n",
       "  0.1028062179684639,\n",
       "  0.1005258858203888,\n",
       "  0.09849056601524353,\n",
       "  0.0966031476855278,\n",
       "  0.09458985179662704,\n",
       "  0.09272824227809906,\n",
       "  0.09087467938661575,\n",
       "  0.08892513066530228,\n",
       "  0.08727467805147171,\n",
       "  0.08555780351161957,\n",
       "  0.08386272192001343],\n",
       " 'accuracy': [0.6950799822807312,\n",
       "  0.8697599768638611,\n",
       "  0.893339991569519,\n",
       "  0.9041600227355957,\n",
       "  0.9115999937057495,\n",
       "  0.9173200130462646,\n",
       "  0.9213600158691406,\n",
       "  0.9254199862480164,\n",
       "  0.9291800260543823,\n",
       "  0.9318000078201294,\n",
       "  0.934220016002655,\n",
       "  0.9370200037956238,\n",
       "  0.939079999923706,\n",
       "  0.9417399764060974,\n",
       "  0.9439600110054016,\n",
       "  0.9455199837684631,\n",
       "  0.9473999738693237,\n",
       "  0.9491599798202515,\n",
       "  0.9506800174713135,\n",
       "  0.9520800113677979,\n",
       "  0.9531599879264832,\n",
       "  0.954479992389679,\n",
       "  0.9554600119590759,\n",
       "  0.9565799832344055,\n",
       "  0.9577400088310242,\n",
       "  0.9591599702835083,\n",
       "  0.9603999853134155,\n",
       "  0.9611799716949463,\n",
       "  0.9624599814414978,\n",
       "  0.9635800123214722,\n",
       "  0.9648200273513794,\n",
       "  0.9656599760055542,\n",
       "  0.9665600061416626,\n",
       "  0.9672999978065491,\n",
       "  0.9682199954986572,\n",
       "  0.9688400030136108,\n",
       "  0.9698200225830078,\n",
       "  0.9706400036811829,\n",
       "  0.9710000157356262,\n",
       "  0.9717400074005127,\n",
       "  0.9725599884986877,\n",
       "  0.9731799960136414,\n",
       "  0.9733999967575073,\n",
       "  0.9738600254058838,\n",
       "  0.9744600057601929,\n",
       "  0.9752399921417236,\n",
       "  0.9757000207901001,\n",
       "  0.9763000011444092,\n",
       "  0.9765200018882751,\n",
       "  0.9771599769592285],\n",
       " 'val_loss': [0.6027509570121765,\n",
       "  0.39179930090904236,\n",
       "  0.3320727050304413,\n",
       "  0.3008858263492584,\n",
       "  0.28080493211746216,\n",
       "  0.2640237808227539,\n",
       "  0.2502540946006775,\n",
       "  0.24139316380023956,\n",
       "  0.2311498075723648,\n",
       "  0.22196835279464722,\n",
       "  0.2132689654827118,\n",
       "  0.20729707181453705,\n",
       "  0.19990451633930206,\n",
       "  0.19363386929035187,\n",
       "  0.18819287419319153,\n",
       "  0.1825302094221115,\n",
       "  0.17757810652256012,\n",
       "  0.17373208701610565,\n",
       "  0.16834335029125214,\n",
       "  0.16565218567848206,\n",
       "  0.1601022630929947,\n",
       "  0.1567877233028412,\n",
       "  0.15323913097381592,\n",
       "  0.15093837678432465,\n",
       "  0.14720533788204193,\n",
       "  0.1447337567806244,\n",
       "  0.14261266589164734,\n",
       "  0.1394060254096985,\n",
       "  0.1366388499736786,\n",
       "  0.13494931161403656,\n",
       "  0.133672297000885,\n",
       "  0.1314954161643982,\n",
       "  0.12812653183937073,\n",
       "  0.12659060955047607,\n",
       "  0.12537191808223724,\n",
       "  0.12329301983118057,\n",
       "  0.12132639437913895,\n",
       "  0.11964188516139984,\n",
       "  0.11844271421432495,\n",
       "  0.11739595979452133,\n",
       "  0.11489935219287872,\n",
       "  0.11411122977733612,\n",
       "  0.11242882162332535,\n",
       "  0.11125123500823975,\n",
       "  0.1095682755112648,\n",
       "  0.10868944227695465,\n",
       "  0.10772687941789627,\n",
       "  0.10631395131349564,\n",
       "  0.10600084066390991,\n",
       "  0.10530541837215424],\n",
       " 'val_accuracy': [0.8690999746322632,\n",
       "  0.900600016117096,\n",
       "  0.9110999703407288,\n",
       "  0.9158999919891357,\n",
       "  0.9215999841690063,\n",
       "  0.9254999756813049,\n",
       "  0.9290000200271606,\n",
       "  0.9319999814033508,\n",
       "  0.9337999820709229,\n",
       "  0.9376999735832214,\n",
       "  0.9384999871253967,\n",
       "  0.9423999786376953,\n",
       "  0.9430999755859375,\n",
       "  0.9455000162124634,\n",
       "  0.9474999904632568,\n",
       "  0.9498999714851379,\n",
       "  0.9513000249862671,\n",
       "  0.951200008392334,\n",
       "  0.9538000226020813,\n",
       "  0.9528999924659729,\n",
       "  0.9560999870300293,\n",
       "  0.9574000239372253,\n",
       "  0.9577000141143799,\n",
       "  0.9585000276565552,\n",
       "  0.9592000246047974,\n",
       "  0.9603000283241272,\n",
       "  0.9611999988555908,\n",
       "  0.9609000086784363,\n",
       "  0.9628000259399414,\n",
       "  0.9625999927520752,\n",
       "  0.963100016117096,\n",
       "  0.9624000191688538,\n",
       "  0.9650999903678894,\n",
       "  0.9646999835968018,\n",
       "  0.9656000137329102,\n",
       "  0.9659000039100647,\n",
       "  0.9674999713897705,\n",
       "  0.967199981212616,\n",
       "  0.9675999879837036,\n",
       "  0.9675999879837036,\n",
       "  0.9684000015258789,\n",
       "  0.9682999849319458,\n",
       "  0.968999981880188,\n",
       "  0.9689000248908997,\n",
       "  0.9700000286102295,\n",
       "  0.9696999788284302,\n",
       "  0.9695000052452087,\n",
       "  0.9700000286102295,\n",
       "  0.9699000120162964,\n",
       "  0.9690999984741211]}"
      ]
     },
     "execution_count": 48,
     "metadata": {},
     "output_type": "execute_result"
    }
   ],
   "source": [
    "history.history"
   ]
  },
  {
   "cell_type": "code",
   "execution_count": 49,
   "metadata": {},
   "outputs": [
    {
     "data": {
      "text/plain": [
       "dict_keys(['loss', 'accuracy', 'val_loss', 'val_accuracy'])"
      ]
     },
     "execution_count": 49,
     "metadata": {},
     "output_type": "execute_result"
    }
   ],
   "source": [
    "history.history.keys()"
   ]
  },
  {
   "cell_type": "code",
   "execution_count": 50,
   "metadata": {},
   "outputs": [
    {
     "data": {
      "text/html": [
       "<div>\n",
       "<style scoped>\n",
       "    .dataframe tbody tr th:only-of-type {\n",
       "        vertical-align: middle;\n",
       "    }\n",
       "\n",
       "    .dataframe tbody tr th {\n",
       "        vertical-align: top;\n",
       "    }\n",
       "\n",
       "    .dataframe thead th {\n",
       "        text-align: right;\n",
       "    }\n",
       "</style>\n",
       "<table border=\"1\" class=\"dataframe\">\n",
       "  <thead>\n",
       "    <tr style=\"text-align: right;\">\n",
       "      <th></th>\n",
       "      <th>loss</th>\n",
       "      <th>accuracy</th>\n",
       "      <th>val_loss</th>\n",
       "      <th>val_accuracy</th>\n",
       "    </tr>\n",
       "  </thead>\n",
       "  <tbody>\n",
       "    <tr>\n",
       "      <th>0</th>\n",
       "      <td>1.257639</td>\n",
       "      <td>0.69508</td>\n",
       "      <td>0.602751</td>\n",
       "      <td>0.8691</td>\n",
       "    </tr>\n",
       "    <tr>\n",
       "      <th>1</th>\n",
       "      <td>0.515275</td>\n",
       "      <td>0.86976</td>\n",
       "      <td>0.391799</td>\n",
       "      <td>0.9006</td>\n",
       "    </tr>\n",
       "    <tr>\n",
       "      <th>2</th>\n",
       "      <td>0.393715</td>\n",
       "      <td>0.89334</td>\n",
       "      <td>0.332073</td>\n",
       "      <td>0.9111</td>\n",
       "    </tr>\n",
       "    <tr>\n",
       "      <th>3</th>\n",
       "      <td>0.345039</td>\n",
       "      <td>0.90416</td>\n",
       "      <td>0.300886</td>\n",
       "      <td>0.9159</td>\n",
       "    </tr>\n",
       "    <tr>\n",
       "      <th>4</th>\n",
       "      <td>0.315975</td>\n",
       "      <td>0.91160</td>\n",
       "      <td>0.280805</td>\n",
       "      <td>0.9216</td>\n",
       "    </tr>\n",
       "    <tr>\n",
       "      <th>5</th>\n",
       "      <td>0.294504</td>\n",
       "      <td>0.91732</td>\n",
       "      <td>0.264024</td>\n",
       "      <td>0.9255</td>\n",
       "    </tr>\n",
       "    <tr>\n",
       "      <th>6</th>\n",
       "      <td>0.277835</td>\n",
       "      <td>0.92136</td>\n",
       "      <td>0.250254</td>\n",
       "      <td>0.9290</td>\n",
       "    </tr>\n",
       "    <tr>\n",
       "      <th>7</th>\n",
       "      <td>0.263623</td>\n",
       "      <td>0.92542</td>\n",
       "      <td>0.241393</td>\n",
       "      <td>0.9320</td>\n",
       "    </tr>\n",
       "    <tr>\n",
       "      <th>8</th>\n",
       "      <td>0.251599</td>\n",
       "      <td>0.92918</td>\n",
       "      <td>0.231150</td>\n",
       "      <td>0.9338</td>\n",
       "    </tr>\n",
       "    <tr>\n",
       "      <th>9</th>\n",
       "      <td>0.240578</td>\n",
       "      <td>0.93180</td>\n",
       "      <td>0.221968</td>\n",
       "      <td>0.9377</td>\n",
       "    </tr>\n",
       "    <tr>\n",
       "      <th>10</th>\n",
       "      <td>0.230883</td>\n",
       "      <td>0.93422</td>\n",
       "      <td>0.213269</td>\n",
       "      <td>0.9385</td>\n",
       "    </tr>\n",
       "    <tr>\n",
       "      <th>11</th>\n",
       "      <td>0.221935</td>\n",
       "      <td>0.93702</td>\n",
       "      <td>0.207297</td>\n",
       "      <td>0.9424</td>\n",
       "    </tr>\n",
       "    <tr>\n",
       "      <th>12</th>\n",
       "      <td>0.213765</td>\n",
       "      <td>0.93908</td>\n",
       "      <td>0.199905</td>\n",
       "      <td>0.9431</td>\n",
       "    </tr>\n",
       "    <tr>\n",
       "      <th>13</th>\n",
       "      <td>0.206364</td>\n",
       "      <td>0.94174</td>\n",
       "      <td>0.193634</td>\n",
       "      <td>0.9455</td>\n",
       "    </tr>\n",
       "    <tr>\n",
       "      <th>14</th>\n",
       "      <td>0.199152</td>\n",
       "      <td>0.94396</td>\n",
       "      <td>0.188193</td>\n",
       "      <td>0.9475</td>\n",
       "    </tr>\n",
       "    <tr>\n",
       "      <th>15</th>\n",
       "      <td>0.192628</td>\n",
       "      <td>0.94552</td>\n",
       "      <td>0.182530</td>\n",
       "      <td>0.9499</td>\n",
       "    </tr>\n",
       "    <tr>\n",
       "      <th>16</th>\n",
       "      <td>0.186367</td>\n",
       "      <td>0.94740</td>\n",
       "      <td>0.177578</td>\n",
       "      <td>0.9513</td>\n",
       "    </tr>\n",
       "    <tr>\n",
       "      <th>17</th>\n",
       "      <td>0.180620</td>\n",
       "      <td>0.94916</td>\n",
       "      <td>0.173732</td>\n",
       "      <td>0.9512</td>\n",
       "    </tr>\n",
       "    <tr>\n",
       "      <th>18</th>\n",
       "      <td>0.175128</td>\n",
       "      <td>0.95068</td>\n",
       "      <td>0.168343</td>\n",
       "      <td>0.9538</td>\n",
       "    </tr>\n",
       "    <tr>\n",
       "      <th>19</th>\n",
       "      <td>0.169735</td>\n",
       "      <td>0.95208</td>\n",
       "      <td>0.165652</td>\n",
       "      <td>0.9529</td>\n",
       "    </tr>\n",
       "    <tr>\n",
       "      <th>20</th>\n",
       "      <td>0.164998</td>\n",
       "      <td>0.95316</td>\n",
       "      <td>0.160102</td>\n",
       "      <td>0.9561</td>\n",
       "    </tr>\n",
       "    <tr>\n",
       "      <th>21</th>\n",
       "      <td>0.160023</td>\n",
       "      <td>0.95448</td>\n",
       "      <td>0.156788</td>\n",
       "      <td>0.9574</td>\n",
       "    </tr>\n",
       "    <tr>\n",
       "      <th>22</th>\n",
       "      <td>0.155577</td>\n",
       "      <td>0.95546</td>\n",
       "      <td>0.153239</td>\n",
       "      <td>0.9577</td>\n",
       "    </tr>\n",
       "    <tr>\n",
       "      <th>23</th>\n",
       "      <td>0.151285</td>\n",
       "      <td>0.95658</td>\n",
       "      <td>0.150938</td>\n",
       "      <td>0.9585</td>\n",
       "    </tr>\n",
       "    <tr>\n",
       "      <th>24</th>\n",
       "      <td>0.147203</td>\n",
       "      <td>0.95774</td>\n",
       "      <td>0.147205</td>\n",
       "      <td>0.9592</td>\n",
       "    </tr>\n",
       "    <tr>\n",
       "      <th>25</th>\n",
       "      <td>0.143471</td>\n",
       "      <td>0.95916</td>\n",
       "      <td>0.144734</td>\n",
       "      <td>0.9603</td>\n",
       "    </tr>\n",
       "    <tr>\n",
       "      <th>26</th>\n",
       "      <td>0.139615</td>\n",
       "      <td>0.96040</td>\n",
       "      <td>0.142613</td>\n",
       "      <td>0.9612</td>\n",
       "    </tr>\n",
       "    <tr>\n",
       "      <th>27</th>\n",
       "      <td>0.136147</td>\n",
       "      <td>0.96118</td>\n",
       "      <td>0.139406</td>\n",
       "      <td>0.9609</td>\n",
       "    </tr>\n",
       "    <tr>\n",
       "      <th>28</th>\n",
       "      <td>0.132768</td>\n",
       "      <td>0.96246</td>\n",
       "      <td>0.136639</td>\n",
       "      <td>0.9628</td>\n",
       "    </tr>\n",
       "    <tr>\n",
       "      <th>29</th>\n",
       "      <td>0.129437</td>\n",
       "      <td>0.96358</td>\n",
       "      <td>0.134949</td>\n",
       "      <td>0.9626</td>\n",
       "    </tr>\n",
       "    <tr>\n",
       "      <th>30</th>\n",
       "      <td>0.126294</td>\n",
       "      <td>0.96482</td>\n",
       "      <td>0.133672</td>\n",
       "      <td>0.9631</td>\n",
       "    </tr>\n",
       "    <tr>\n",
       "      <th>31</th>\n",
       "      <td>0.123214</td>\n",
       "      <td>0.96566</td>\n",
       "      <td>0.131495</td>\n",
       "      <td>0.9624</td>\n",
       "    </tr>\n",
       "    <tr>\n",
       "      <th>32</th>\n",
       "      <td>0.120378</td>\n",
       "      <td>0.96656</td>\n",
       "      <td>0.128127</td>\n",
       "      <td>0.9651</td>\n",
       "    </tr>\n",
       "    <tr>\n",
       "      <th>33</th>\n",
       "      <td>0.117589</td>\n",
       "      <td>0.96730</td>\n",
       "      <td>0.126591</td>\n",
       "      <td>0.9647</td>\n",
       "    </tr>\n",
       "    <tr>\n",
       "      <th>34</th>\n",
       "      <td>0.114875</td>\n",
       "      <td>0.96822</td>\n",
       "      <td>0.125372</td>\n",
       "      <td>0.9656</td>\n",
       "    </tr>\n",
       "    <tr>\n",
       "      <th>35</th>\n",
       "      <td>0.112300</td>\n",
       "      <td>0.96884</td>\n",
       "      <td>0.123293</td>\n",
       "      <td>0.9659</td>\n",
       "    </tr>\n",
       "    <tr>\n",
       "      <th>36</th>\n",
       "      <td>0.109715</td>\n",
       "      <td>0.96982</td>\n",
       "      <td>0.121326</td>\n",
       "      <td>0.9675</td>\n",
       "    </tr>\n",
       "    <tr>\n",
       "      <th>37</th>\n",
       "      <td>0.107335</td>\n",
       "      <td>0.97064</td>\n",
       "      <td>0.119642</td>\n",
       "      <td>0.9672</td>\n",
       "    </tr>\n",
       "    <tr>\n",
       "      <th>38</th>\n",
       "      <td>0.105235</td>\n",
       "      <td>0.97100</td>\n",
       "      <td>0.118443</td>\n",
       "      <td>0.9676</td>\n",
       "    </tr>\n",
       "    <tr>\n",
       "      <th>39</th>\n",
       "      <td>0.102806</td>\n",
       "      <td>0.97174</td>\n",
       "      <td>0.117396</td>\n",
       "      <td>0.9676</td>\n",
       "    </tr>\n",
       "    <tr>\n",
       "      <th>40</th>\n",
       "      <td>0.100526</td>\n",
       "      <td>0.97256</td>\n",
       "      <td>0.114899</td>\n",
       "      <td>0.9684</td>\n",
       "    </tr>\n",
       "    <tr>\n",
       "      <th>41</th>\n",
       "      <td>0.098491</td>\n",
       "      <td>0.97318</td>\n",
       "      <td>0.114111</td>\n",
       "      <td>0.9683</td>\n",
       "    </tr>\n",
       "    <tr>\n",
       "      <th>42</th>\n",
       "      <td>0.096603</td>\n",
       "      <td>0.97340</td>\n",
       "      <td>0.112429</td>\n",
       "      <td>0.9690</td>\n",
       "    </tr>\n",
       "    <tr>\n",
       "      <th>43</th>\n",
       "      <td>0.094590</td>\n",
       "      <td>0.97386</td>\n",
       "      <td>0.111251</td>\n",
       "      <td>0.9689</td>\n",
       "    </tr>\n",
       "    <tr>\n",
       "      <th>44</th>\n",
       "      <td>0.092728</td>\n",
       "      <td>0.97446</td>\n",
       "      <td>0.109568</td>\n",
       "      <td>0.9700</td>\n",
       "    </tr>\n",
       "    <tr>\n",
       "      <th>45</th>\n",
       "      <td>0.090875</td>\n",
       "      <td>0.97524</td>\n",
       "      <td>0.108689</td>\n",
       "      <td>0.9697</td>\n",
       "    </tr>\n",
       "    <tr>\n",
       "      <th>46</th>\n",
       "      <td>0.088925</td>\n",
       "      <td>0.97570</td>\n",
       "      <td>0.107727</td>\n",
       "      <td>0.9695</td>\n",
       "    </tr>\n",
       "    <tr>\n",
       "      <th>47</th>\n",
       "      <td>0.087275</td>\n",
       "      <td>0.97630</td>\n",
       "      <td>0.106314</td>\n",
       "      <td>0.9700</td>\n",
       "    </tr>\n",
       "    <tr>\n",
       "      <th>48</th>\n",
       "      <td>0.085558</td>\n",
       "      <td>0.97652</td>\n",
       "      <td>0.106001</td>\n",
       "      <td>0.9699</td>\n",
       "    </tr>\n",
       "    <tr>\n",
       "      <th>49</th>\n",
       "      <td>0.083863</td>\n",
       "      <td>0.97716</td>\n",
       "      <td>0.105305</td>\n",
       "      <td>0.9691</td>\n",
       "    </tr>\n",
       "  </tbody>\n",
       "</table>\n",
       "</div>"
      ],
      "text/plain": [
       "        loss  accuracy  val_loss  val_accuracy\n",
       "0   1.257639   0.69508  0.602751        0.8691\n",
       "1   0.515275   0.86976  0.391799        0.9006\n",
       "2   0.393715   0.89334  0.332073        0.9111\n",
       "3   0.345039   0.90416  0.300886        0.9159\n",
       "4   0.315975   0.91160  0.280805        0.9216\n",
       "5   0.294504   0.91732  0.264024        0.9255\n",
       "6   0.277835   0.92136  0.250254        0.9290\n",
       "7   0.263623   0.92542  0.241393        0.9320\n",
       "8   0.251599   0.92918  0.231150        0.9338\n",
       "9   0.240578   0.93180  0.221968        0.9377\n",
       "10  0.230883   0.93422  0.213269        0.9385\n",
       "11  0.221935   0.93702  0.207297        0.9424\n",
       "12  0.213765   0.93908  0.199905        0.9431\n",
       "13  0.206364   0.94174  0.193634        0.9455\n",
       "14  0.199152   0.94396  0.188193        0.9475\n",
       "15  0.192628   0.94552  0.182530        0.9499\n",
       "16  0.186367   0.94740  0.177578        0.9513\n",
       "17  0.180620   0.94916  0.173732        0.9512\n",
       "18  0.175128   0.95068  0.168343        0.9538\n",
       "19  0.169735   0.95208  0.165652        0.9529\n",
       "20  0.164998   0.95316  0.160102        0.9561\n",
       "21  0.160023   0.95448  0.156788        0.9574\n",
       "22  0.155577   0.95546  0.153239        0.9577\n",
       "23  0.151285   0.95658  0.150938        0.9585\n",
       "24  0.147203   0.95774  0.147205        0.9592\n",
       "25  0.143471   0.95916  0.144734        0.9603\n",
       "26  0.139615   0.96040  0.142613        0.9612\n",
       "27  0.136147   0.96118  0.139406        0.9609\n",
       "28  0.132768   0.96246  0.136639        0.9628\n",
       "29  0.129437   0.96358  0.134949        0.9626\n",
       "30  0.126294   0.96482  0.133672        0.9631\n",
       "31  0.123214   0.96566  0.131495        0.9624\n",
       "32  0.120378   0.96656  0.128127        0.9651\n",
       "33  0.117589   0.96730  0.126591        0.9647\n",
       "34  0.114875   0.96822  0.125372        0.9656\n",
       "35  0.112300   0.96884  0.123293        0.9659\n",
       "36  0.109715   0.96982  0.121326        0.9675\n",
       "37  0.107335   0.97064  0.119642        0.9672\n",
       "38  0.105235   0.97100  0.118443        0.9676\n",
       "39  0.102806   0.97174  0.117396        0.9676\n",
       "40  0.100526   0.97256  0.114899        0.9684\n",
       "41  0.098491   0.97318  0.114111        0.9683\n",
       "42  0.096603   0.97340  0.112429        0.9690\n",
       "43  0.094590   0.97386  0.111251        0.9689\n",
       "44  0.092728   0.97446  0.109568        0.9700\n",
       "45  0.090875   0.97524  0.108689        0.9697\n",
       "46  0.088925   0.97570  0.107727        0.9695\n",
       "47  0.087275   0.97630  0.106314        0.9700\n",
       "48  0.085558   0.97652  0.106001        0.9699\n",
       "49  0.083863   0.97716  0.105305        0.9691"
      ]
     },
     "execution_count": 50,
     "metadata": {},
     "output_type": "execute_result"
    }
   ],
   "source": [
    "pd.DataFrame(history.history)"
   ]
  },
  {
   "cell_type": "code",
   "execution_count": 51,
   "metadata": {},
   "outputs": [
    {
     "data": {
      "image/png": "[encoded data removed]",
      "text/plain": [
       "<Figure size 800x500 with 1 Axes>"
      ]
     },
     "metadata": {},
     "output_type": "display_data"
    }
   ],
   "source": [
    "import pandas as pd\n",
    "import matplotlib.pyplot as plt\n",
    "\n",
    "pd.DataFrame(history.history).plot(figsize=(8, 5))\n",
    "plt.grid(True)\n",
    "plt.gca().set_ylim(0, 1) # set the vertical range to [0-1]\n",
    "plt.show()"
   ]
  },
  {
   "attachments": {},
   "cell_type": "markdown",
   "metadata": {},
   "source": [
    "Si el modelo no ha ido bien, prueba a cambiar el learning rate, cambia de optimizador y después prueba a cambiar capas, neuronas y funciones de activación.\n",
    "\n",
    "Ya tenemos el modelo entrenado. Probémoslo con test"
   ]
  },
  {
   "cell_type": "code",
   "execution_count": 54,
   "metadata": {
    "tags": []
   },
   "outputs": [
    {
     "name": "stdout",
     "output_type": "stream",
     "text": [
      "313/313 [==============================] - 0s 1ms/step - loss: 0.0915 - accuracy: 0.9725\n"
     ]
    },
    {
     "data": {
      "text/plain": [
       "[0.09152783453464508, 0.9725000262260437]"
      ]
     },
     "execution_count": 54,
     "metadata": {},
     "output_type": "execute_result"
    }
   ],
   "source": [
    "results = model.evaluate(X_test, y_test)\n",
    "results"
   ]
  },
  {
   "cell_type": "code",
   "execution_count": 55,
   "metadata": {
    "collapsed": true,
    "jupyter": {
     "outputs_hidden": true
    },
    "tags": []
   },
   "outputs": [
    {
     "name": "stderr",
     "output_type": "stream",
     "text": [
      "C:\\Users\\jegar\\AppData\\Local\\Temp\\ipykernel_1120\\1468152043.py:2: MatplotlibDeprecationWarning: The get_cmap function was deprecated in Matplotlib 3.7 and will be removed two minor releases later. Use ``matplotlib.colormaps[name]`` or ``matplotlib.colormaps.get_cmap(obj)`` instead.\n",
      "  plt.imshow(X_test[0].reshape(28,28), cmap=plt.cm.get_cmap('Greys'));\n"
     ]
    },
    {
     "data": {
      "image/png": "[encoded data removed]",
      "text/plain": [
       "<Figure size 640x480 with 1 Axes>"
      ]
     },
     "metadata": {},
     "output_type": "display_data"
    }
   ],
   "source": [
    "# Cogemos el primero\n",
    "plt.imshow(X_test[0].reshape(28,28), cmap=plt.cm.get_cmap('Greys'));"
   ]
  },
  {
   "cell_type": "code",
   "execution_count": null,
   "metadata": {},
   "outputs": [
    {
     "data": {
      "text/plain": [
       "array([[[  0,   0,   0,   0,   0,   0,   0,   0,   0,   0,   0,   0,\n",
       "           0,   0,   0,   0,   0,   0,   0,   0,   0,   0,   0,   0,\n",
       "           0,   0,   0,   0],\n",
       "        [  0,   0,   0,   0,   0,   0,   0,   0,   0,   0,   0,   0,\n",
       "           0,   0,   0,   0,   0,   0,   0,   0,   0,   0,   0,   0,\n",
       "           0,   0,   0,   0],\n",
       "        [  0,   0,   0,   0,   0,   0,   0,   0,   0,   0,   0,   0,\n",
       "           0,   0,   0,   0,   0,   0,   0,   0,   0,   0,   0,   0,\n",
       "           0,   0,   0,   0],\n",
       "        [  0,   0,   0,   0,   0,   0,   0,   0,   0,   0,   0,   0,\n",
       "           0,   0,   0,   0,   0,   0,   0,   0,   0,   0,   0,   0,\n",
       "           0,   0,   0,   0],\n",
       "        [  0,   0,   0,   0,   0,   0,   0,   0,   0,   0,   0,   0,\n",
       "           0,   0,   0,   0,   0,   0,   0,   0,   0,   0,   0,   0,\n",
       "           0,   0,   0,   0],\n",
       "        [  0,   0,   0,   0,   0,   0,   0,   0,   0,   0,   0,   0,\n",
       "           0,   0,   0,   0,   0,   0,   0,   0,   0,   0,   0,   0,\n",
       "           0,   0,   0,   0],\n",
       "        [  0,   0,   0,   0,   0,   0,   0,   0,   0,   0,   0,   0,\n",
       "           0,   0,   0,   0,   0,   0,   0,   0,   0,   0,   0,   0,\n",
       "           0,   0,   0,   0],\n",
       "        [  0,   0,   0,   0,   0,   0,  84, 185, 159, 151,  60,  36,\n",
       "           0,   0,   0,   0,   0,   0,   0,   0,   0,   0,   0,   0,\n",
       "           0,   0,   0,   0],\n",
       "        [  0,   0,   0,   0,   0,   0, 222, 254, 254, 254, 254, 241,\n",
       "         198, 198, 198, 198, 198, 198, 198, 198, 170,  52,   0,   0,\n",
       "           0,   0,   0,   0],\n",
       "        [  0,   0,   0,   0,   0,   0,  67, 114,  72, 114, 163, 227,\n",
       "         254, 225, 254, 254, 254, 250, 229, 254, 254, 140,   0,   0,\n",
       "           0,   0,   0,   0],\n",
       "        [  0,   0,   0,   0,   0,   0,   0,   0,   0,   0,   0,  17,\n",
       "          66,  14,  67,  67,  67,  59,  21, 236, 254, 106,   0,   0,\n",
       "           0,   0,   0,   0],\n",
       "        [  0,   0,   0,   0,   0,   0,   0,   0,   0,   0,   0,   0,\n",
       "           0,   0,   0,   0,   0,   0,  83, 253, 209,  18,   0,   0,\n",
       "           0,   0,   0,   0],\n",
       "        [  0,   0,   0,   0,   0,   0,   0,   0,   0,   0,   0,   0,\n",
       "           0,   0,   0,   0,   0,  22, 233, 255,  83,   0,   0,   0,\n",
       "           0,   0,   0,   0],\n",
       "        [  0,   0,   0,   0,   0,   0,   0,   0,   0,   0,   0,   0,\n",
       "           0,   0,   0,   0,   0, 129, 254, 238,  44,   0,   0,   0,\n",
       "           0,   0,   0,   0],\n",
       "        [  0,   0,   0,   0,   0,   0,   0,   0,   0,   0,   0,   0,\n",
       "           0,   0,   0,   0,  59, 249, 254,  62,   0,   0,   0,   0,\n",
       "           0,   0,   0,   0],\n",
       "        [  0,   0,   0,   0,   0,   0,   0,   0,   0,   0,   0,   0,\n",
       "           0,   0,   0,   0, 133, 254, 187,   5,   0,   0,   0,   0,\n",
       "           0,   0,   0,   0],\n",
       "        [  0,   0,   0,   0,   0,   0,   0,   0,   0,   0,   0,   0,\n",
       "           0,   0,   0,   9, 205, 248,  58,   0,   0,   0,   0,   0,\n",
       "           0,   0,   0,   0],\n",
       "        [  0,   0,   0,   0,   0,   0,   0,   0,   0,   0,   0,   0,\n",
       "           0,   0,   0, 126, 254, 182,   0,   0,   0,   0,   0,   0,\n",
       "           0,   0,   0,   0],\n",
       "        [  0,   0,   0,   0,   0,   0,   0,   0,   0,   0,   0,   0,\n",
       "           0,   0,  75, 251, 240,  57,   0,   0,   0,   0,   0,   0,\n",
       "           0,   0,   0,   0],\n",
       "        [  0,   0,   0,   0,   0,   0,   0,   0,   0,   0,   0,   0,\n",
       "           0,  19, 221, 254, 166,   0,   0,   0,   0,   0,   0,   0,\n",
       "           0,   0,   0,   0],\n",
       "        [  0,   0,   0,   0,   0,   0,   0,   0,   0,   0,   0,   0,\n",
       "           3, 203, 254, 219,  35,   0,   0,   0,   0,   0,   0,   0,\n",
       "           0,   0,   0,   0],\n",
       "        [  0,   0,   0,   0,   0,   0,   0,   0,   0,   0,   0,   0,\n",
       "          38, 254, 254,  77,   0,   0,   0,   0,   0,   0,   0,   0,\n",
       "           0,   0,   0,   0],\n",
       "        [  0,   0,   0,   0,   0,   0,   0,   0,   0,   0,   0,  31,\n",
       "         224, 254, 115,   1,   0,   0,   0,   0,   0,   0,   0,   0,\n",
       "           0,   0,   0,   0],\n",
       "        [  0,   0,   0,   0,   0,   0,   0,   0,   0,   0,   0, 133,\n",
       "         254, 254,  52,   0,   0,   0,   0,   0,   0,   0,   0,   0,\n",
       "           0,   0,   0,   0],\n",
       "        [  0,   0,   0,   0,   0,   0,   0,   0,   0,   0,  61, 242,\n",
       "         254, 254,  52,   0,   0,   0,   0,   0,   0,   0,   0,   0,\n",
       "           0,   0,   0,   0],\n",
       "        [  0,   0,   0,   0,   0,   0,   0,   0,   0,   0, 121, 254,\n",
       "         254, 219,  40,   0,   0,   0,   0,   0,   0,   0,   0,   0,\n",
       "           0,   0,   0,   0],\n",
       "        [  0,   0,   0,   0,   0,   0,   0,   0,   0,   0, 121, 254,\n",
       "         207,  18,   0,   0,   0,   0,   0,   0,   0,   0,   0,   0,\n",
       "           0,   0,   0,   0],\n",
       "        [  0,   0,   0,   0,   0,   0,   0,   0,   0,   0,   0,   0,\n",
       "           0,   0,   0,   0,   0,   0,   0,   0,   0,   0,   0,   0,\n",
       "           0,   0,   0,   0]]], dtype=uint8)"
      ]
     },
     "execution_count": 128,
     "metadata": {},
     "output_type": "execute_result"
    }
   ],
   "source": [
    "X_test[:1]"
   ]
  },
  {
   "cell_type": "code",
   "execution_count": 64,
   "metadata": {
    "tags": []
   },
   "outputs": [
    {
     "name": "stdout",
     "output_type": "stream",
     "text": [
      "1/1 [==============================] - 0s 33ms/step\n",
      "(1, 10)\n"
     ]
    },
    {
     "data": {
      "text/plain": [
       "array([[0.   , 0.   , 0.   , 0.003, 0.   , 0.   , 0.   , 0.997, 0.   ,\n",
       "        0.   ]], dtype=float32)"
      ]
     },
     "execution_count": 64,
     "metadata": {},
     "output_type": "execute_result"
    }
   ],
   "source": [
    "predictions = model.predict(X_test[:1]).round(3)\n",
    "print(predictions.shape)\n",
    "predictions"
   ]
  },
  {
   "cell_type": "code",
   "execution_count": 65,
   "metadata": {},
   "outputs": [
    {
     "data": {
      "text/plain": [
       "7"
      ]
     },
     "execution_count": 65,
     "metadata": {},
     "output_type": "execute_result"
    }
   ],
   "source": [
    "predictions.argmax()"
   ]
  },
  {
   "cell_type": "code",
   "execution_count": 66,
   "metadata": {},
   "outputs": [
    {
     "name": "stdout",
     "output_type": "stream",
     "text": [
      "313/313 [==============================] - 0s 1ms/step\n"
     ]
    },
    {
     "data": {
      "text/plain": [
       "array([7, 2, 1, ..., 4, 5, 6], dtype=int64)"
      ]
     },
     "execution_count": 66,
     "metadata": {},
     "output_type": "execute_result"
    }
   ],
   "source": [
    "model.predict(X_test).argmax(axis=1)"
   ]
  },
  {
   "cell_type": "code",
   "execution_count": 67,
   "metadata": {},
   "outputs": [
    {
     "name": "stderr",
     "output_type": "stream",
     "text": [
      "C:\\Users\\jegar\\AppData\\Local\\Temp\\ipykernel_1120\\1084033691.py:1: MatplotlibDeprecationWarning: The get_cmap function was deprecated in Matplotlib 3.7 and will be removed two minor releases later. Use ``matplotlib.colormaps[name]`` or ``matplotlib.colormaps.get_cmap(obj)`` instead.\n",
      "  plt.imshow(X_test[2].reshape(28,28), cmap=plt.cm.get_cmap('Greys'));\n"
     ]
    },
    {
     "data": {
      "image/png": "[encoded data removed]",
      "text/plain": [
       "<Figure size 640x480 with 1 Axes>"
      ]
     },
     "metadata": {},
     "output_type": "display_data"
    }
   ],
   "source": [
    "plt.imshow(X_test[2].reshape(28,28), cmap=plt.cm.get_cmap('Greys'));"
   ]
  },
  {
   "attachments": {},
   "cell_type": "markdown",
   "metadata": {},
   "source": [
    "### Problema de regresión\n",
    "Veamos un ejemplo de cómo aplicar una red neuronal de TensorFlow a un problema de regresión."
   ]
  },
  {
   "cell_type": "code",
   "execution_count": 91,
   "metadata": {},
   "outputs": [
    {
     "data": {
      "text/html": [
       "<div>\n",
       "<style scoped>\n",
       "    .dataframe tbody tr th:only-of-type {\n",
       "        vertical-align: middle;\n",
       "    }\n",
       "\n",
       "    .dataframe tbody tr th {\n",
       "        vertical-align: top;\n",
       "    }\n",
       "\n",
       "    .dataframe thead th {\n",
       "        text-align: right;\n",
       "    }\n",
       "</style>\n",
       "<table border=\"1\" class=\"dataframe\">\n",
       "  <thead>\n",
       "    <tr style=\"text-align: right;\">\n",
       "      <th></th>\n",
       "      <th>MedInc</th>\n",
       "      <th>HouseAge</th>\n",
       "      <th>AveRooms</th>\n",
       "      <th>AveBedrms</th>\n",
       "      <th>Population</th>\n",
       "      <th>AveOccup</th>\n",
       "      <th>Latitude</th>\n",
       "      <th>Longitude</th>\n",
       "      <th>target</th>\n",
       "    </tr>\n",
       "  </thead>\n",
       "  <tbody>\n",
       "    <tr>\n",
       "      <th>0</th>\n",
       "      <td>8.3252</td>\n",
       "      <td>41.0</td>\n",
       "      <td>6.984127</td>\n",
       "      <td>1.023810</td>\n",
       "      <td>322.0</td>\n",
       "      <td>2.555556</td>\n",
       "      <td>37.88</td>\n",
       "      <td>-122.23</td>\n",
       "      <td>4.526</td>\n",
       "    </tr>\n",
       "    <tr>\n",
       "      <th>1</th>\n",
       "      <td>8.3014</td>\n",
       "      <td>21.0</td>\n",
       "      <td>6.238137</td>\n",
       "      <td>0.971880</td>\n",
       "      <td>2401.0</td>\n",
       "      <td>2.109842</td>\n",
       "      <td>37.86</td>\n",
       "      <td>-122.22</td>\n",
       "      <td>3.585</td>\n",
       "    </tr>\n",
       "    <tr>\n",
       "      <th>2</th>\n",
       "      <td>7.2574</td>\n",
       "      <td>52.0</td>\n",
       "      <td>8.288136</td>\n",
       "      <td>1.073446</td>\n",
       "      <td>496.0</td>\n",
       "      <td>2.802260</td>\n",
       "      <td>37.85</td>\n",
       "      <td>-122.24</td>\n",
       "      <td>3.521</td>\n",
       "    </tr>\n",
       "    <tr>\n",
       "      <th>3</th>\n",
       "      <td>5.6431</td>\n",
       "      <td>52.0</td>\n",
       "      <td>5.817352</td>\n",
       "      <td>1.073059</td>\n",
       "      <td>558.0</td>\n",
       "      <td>2.547945</td>\n",
       "      <td>37.85</td>\n",
       "      <td>-122.25</td>\n",
       "      <td>3.413</td>\n",
       "    </tr>\n",
       "    <tr>\n",
       "      <th>4</th>\n",
       "      <td>3.8462</td>\n",
       "      <td>52.0</td>\n",
       "      <td>6.281853</td>\n",
       "      <td>1.081081</td>\n",
       "      <td>565.0</td>\n",
       "      <td>2.181467</td>\n",
       "      <td>37.85</td>\n",
       "      <td>-122.25</td>\n",
       "      <td>3.422</td>\n",
       "    </tr>\n",
       "  </tbody>\n",
       "</table>\n",
       "</div>"
      ],
      "text/plain": [
       "   MedInc  HouseAge  AveRooms  AveBedrms  Population  AveOccup  Latitude   \n",
       "0  8.3252      41.0  6.984127   1.023810       322.0  2.555556     37.88  \\\n",
       "1  8.3014      21.0  6.238137   0.971880      2401.0  2.109842     37.86   \n",
       "2  7.2574      52.0  8.288136   1.073446       496.0  2.802260     37.85   \n",
       "3  5.6431      52.0  5.817352   1.073059       558.0  2.547945     37.85   \n",
       "4  3.8462      52.0  6.281853   1.081081       565.0  2.181467     37.85   \n",
       "\n",
       "   Longitude  target  \n",
       "0    -122.23   4.526  \n",
       "1    -122.22   3.585  \n",
       "2    -122.24   3.521  \n",
       "3    -122.25   3.413  \n",
       "4    -122.25   3.422  "
      ]
     },
     "execution_count": 91,
     "metadata": {},
     "output_type": "execute_result"
    }
   ],
   "source": [
    "# Cargamos datos\n",
    "from sklearn.datasets import fetch_california_housing\n",
    "from sklearn.model_selection import train_test_split\n",
    "from sklearn.preprocessing import StandardScaler\n",
    "\n",
    "housing = fetch_california_housing()\n",
    "df = pd.DataFrame(housing.data, columns = housing.feature_names)\n",
    "df['target'] = housing['target']\n",
    "df.head()"
   ]
  },
  {
   "cell_type": "code",
   "execution_count": 93,
   "metadata": {},
   "outputs": [
    {
     "data": {
      "text/plain": [
       "dict_keys(['data', 'target', 'frame', 'target_names', 'feature_names', 'DESCR'])"
      ]
     },
     "execution_count": 93,
     "metadata": {},
     "output_type": "execute_result"
    }
   ],
   "source": [
    "housing.keys()"
   ]
  },
  {
   "cell_type": "code",
   "execution_count": 94,
   "metadata": {},
   "outputs": [
    {
     "name": "stdout",
     "output_type": "stream",
     "text": [
      "<class 'pandas.core.frame.DataFrame'>\n",
      "RangeIndex: 20640 entries, 0 to 20639\n",
      "Data columns (total 9 columns):\n",
      " #   Column      Non-Null Count  Dtype  \n",
      "---  ------      --------------  -----  \n",
      " 0   MedInc      20640 non-null  float64\n",
      " 1   HouseAge    20640 non-null  float64\n",
      " 2   AveRooms    20640 non-null  float64\n",
      " 3   AveBedrms   20640 non-null  float64\n",
      " 4   Population  20640 non-null  float64\n",
      " 5   AveOccup    20640 non-null  float64\n",
      " 6   Latitude    20640 non-null  float64\n",
      " 7   Longitude   20640 non-null  float64\n",
      " 8   target      20640 non-null  float64\n",
      "dtypes: float64(9)\n",
      "memory usage: 1.4 MB\n"
     ]
    }
   ],
   "source": [
    "df.info()"
   ]
  },
  {
   "attachments": {},
   "cell_type": "markdown",
   "metadata": {},
   "source": [
    "Divimos en train, test y validation"
   ]
  },
  {
   "cell_type": "code",
   "execution_count": 98,
   "metadata": {},
   "outputs": [],
   "source": [
    "X_train_full, X_test, y_train_full, y_test = train_test_split(housing.data,\n",
    "                                                              housing.target, random_state=42)\n",
    "\n",
    "X_train, X_valid, y_train, y_valid = train_test_split(X_train_full,\n",
    "                                                      y_train_full, random_state=42)\n",
    "\n",
    "scaler = StandardScaler()\n",
    "X_train = scaler.fit_transform(X_train)\n",
    "X_valid = scaler.transform(X_valid)\n",
    "X_test = scaler.transform(X_test)"
   ]
  },
  {
   "cell_type": "code",
   "execution_count": 101,
   "metadata": {},
   "outputs": [
    {
     "data": {
      "text/plain": [
       "(11610, 8)"
      ]
     },
     "execution_count": 101,
     "metadata": {},
     "output_type": "execute_result"
    }
   ],
   "source": [
    "X_train.shape"
   ]
  },
  {
   "attachments": {},
   "cell_type": "markdown",
   "metadata": {},
   "source": [
    "Montamos el modelo. Simplemente se compondrá de una hidden layer, a la que le configuramos una capa previa de entrada de 8 neuronas (las features).\n",
    "\n",
    "Se trata de un modelo de regresión, por lo que la capa de salida es una única neurona."
   ]
  },
  {
   "cell_type": "code",
   "execution_count": 103,
   "metadata": {},
   "outputs": [
    {
     "data": {
      "text/plain": [
       "362.8125"
      ]
     },
     "execution_count": 103,
     "metadata": {},
     "output_type": "execute_result"
    }
   ],
   "source": [
    "11610/32"
   ]
  },
  {
   "cell_type": "code",
   "execution_count": 106,
   "metadata": {},
   "outputs": [
    {
     "name": "stdout",
     "output_type": "stream",
     "text": [
      "Epoch 1/20\n",
      "363/363 [==============================] - 1s 1ms/step - loss: 0.9617 - val_loss: 15.9697\n",
      "Epoch 2/20\n",
      "363/363 [==============================] - 0s 1ms/step - loss: 0.4997 - val_loss: 3.4921\n",
      "Epoch 3/20\n",
      "363/363 [==============================] - 1s 2ms/step - loss: 0.4549 - val_loss: 0.6351\n",
      "Epoch 4/20\n",
      "363/363 [==============================] - 1s 1ms/step - loss: 0.4197 - val_loss: 0.4098\n",
      "Epoch 5/20\n",
      "363/363 [==============================] - 0s 1ms/step - loss: 0.4132 - val_loss: 0.3725\n",
      "Epoch 6/20\n",
      "363/363 [==============================] - 0s 1ms/step - loss: 0.4005 - val_loss: 0.3638\n",
      "Epoch 7/20\n",
      "363/363 [==============================] - 0s 1ms/step - loss: 0.3916 - val_loss: 0.3634\n",
      "Epoch 8/20\n",
      "363/363 [==============================] - 0s 1ms/step - loss: 0.3849 - val_loss: 0.3646\n",
      "Epoch 9/20\n",
      "363/363 [==============================] - 0s 1ms/step - loss: 0.3838 - val_loss: 0.3706\n",
      "Epoch 10/20\n",
      "363/363 [==============================] - 0s 1ms/step - loss: 0.3775 - val_loss: 0.3657\n",
      "Epoch 11/20\n",
      "363/363 [==============================] - 0s 1ms/step - loss: 0.3745 - val_loss: 0.3673\n",
      "Epoch 12/20\n",
      "363/363 [==============================] - 0s 1ms/step - loss: 0.3710 - val_loss: 0.3727\n",
      "Epoch 13/20\n",
      "363/363 [==============================] - 0s 1ms/step - loss: 0.3707 - val_loss: 0.3553\n",
      "Epoch 14/20\n",
      "363/363 [==============================] - 0s 1ms/step - loss: 0.3671 - val_loss: 0.3505\n",
      "Epoch 15/20\n",
      "363/363 [==============================] - 0s 1ms/step - loss: 0.3670 - val_loss: 0.3527\n",
      "Epoch 16/20\n",
      "363/363 [==============================] - 0s 1ms/step - loss: 0.3627 - val_loss: 0.3466\n",
      "Epoch 17/20\n",
      "363/363 [==============================] - 0s 1ms/step - loss: 0.3695 - val_loss: 0.3418\n",
      "Epoch 18/20\n",
      "363/363 [==============================] - 0s 1ms/step - loss: 0.3569 - val_loss: 0.3470\n",
      "Epoch 19/20\n",
      "363/363 [==============================] - 0s 1ms/step - loss: 0.3558 - val_loss: 0.3443\n",
      "Epoch 20/20\n",
      "363/363 [==============================] - 0s 1ms/step - loss: 0.3556 - val_loss: 0.3463\n"
     ]
    }
   ],
   "source": [
    "model = keras.models.Sequential([\n",
    "    keras.layers.Dense(30, activation = 'relu',\n",
    "                      input_shape = X_train.shape[1:]),\n",
    "    keras.layers.Dense(1)\n",
    "])\n",
    "\n",
    "model.compile(loss = \"mean_squared_error\",\n",
    "             optimizer = \"sgd\")\n",
    "\n",
    "history = model.fit(X_train,\n",
    "                   y_train,\n",
    "                   epochs = 20,\n",
    "                   validation_data = (X_valid, y_valid))"
   ]
  },
  {
   "cell_type": "code",
   "execution_count": null,
   "metadata": {},
   "outputs": [
    {
     "data": {
      "text/plain": [
       "270"
      ]
     },
     "execution_count": 72,
     "metadata": {},
     "output_type": "execute_result"
    }
   ],
   "source": [
    "8*30 + 30"
   ]
  },
  {
   "cell_type": "code",
   "execution_count": 107,
   "metadata": {},
   "outputs": [
    {
     "name": "stdout",
     "output_type": "stream",
     "text": [
      "Model: \"sequential_6\"\n",
      "_________________________________________________________________\n",
      " Layer (type)                Output Shape              Param #   \n",
      "=================================================================\n",
      " dense_16 (Dense)            (None, 30)                270       \n",
      "                                                                 \n",
      " dense_17 (Dense)            (None, 1)                 31        \n",
      "                                                                 \n",
      "=================================================================\n",
      "Total params: 301\n",
      "Trainable params: 301\n",
      "Non-trainable params: 0\n",
      "_________________________________________________________________\n"
     ]
    }
   ],
   "source": [
    "model.summary()"
   ]
  },
  {
   "cell_type": "code",
   "execution_count": null,
   "metadata": {},
   "outputs": [
    {
     "name": "stdout",
     "output_type": "stream",
     "text": [
      "162/162 [==============================] - 0s 1ms/step - loss: 0.3765\n",
      "0.37653276324272156\n"
     ]
    }
   ],
   "source": [
    "mse_test = model.evaluate(X_test, y_test)\n",
    "print(mse_test)"
   ]
  },
  {
   "cell_type": "code",
   "execution_count": 113,
   "metadata": {},
   "outputs": [
    {
     "name": "stdout",
     "output_type": "stream",
     "text": [
      "1/1 [==============================] - 0s 25ms/step\n"
     ]
    },
    {
     "data": {
      "text/plain": [
       "array([[0.64878446],\n",
       "       [1.6207707 ],\n",
       "       [4.2124915 ],\n",
       "       [2.6718893 ],\n",
       "       [3.1420908 ]], dtype=float32)"
      ]
     },
     "execution_count": 113,
     "metadata": {},
     "output_type": "execute_result"
    }
   ],
   "source": [
    "y_pred = model.predict(X_test[:5])\n",
    "y_pred"
   ]
  },
  {
   "cell_type": "code",
   "execution_count": 139,
   "metadata": {},
   "outputs": [
    {
     "data": {
      "text/plain": [
       "0.47378582303970995"
      ]
     },
     "execution_count": 139,
     "metadata": {},
     "output_type": "execute_result"
    }
   ],
   "source": [
    "from sklearn.metrics import mean_squared_error, r2_score, mean_absolute_error\n",
    "mean_squared_error(y_test[:5], y_pred)"
   ]
  },
  {
   "attachments": {},
   "cell_type": "markdown",
   "metadata": {},
   "source": [
    "### Guardar modelo\n",
    "Para guardar el modelo, en el formato de Keras (HDF5). "
   ]
  },
  {
   "cell_type": "code",
   "execution_count": 186,
   "metadata": {},
   "outputs": [],
   "source": [
    "import pickle\n",
    "\n",
    "pickle.dump(scaler, open(\"scaler.pkl\", \"wb\"))\n",
    "Modelo_entrenado = pickle.load(open(\"scaler.pkl\", \"rb\")) # volver a cargar el modelo"
   ]
  },
  {
   "cell_type": "code",
   "execution_count": 184,
   "metadata": {},
   "outputs": [],
   "source": [
    "model.save(\"my_keras_model.h5\")"
   ]
  },
  {
   "cell_type": "code",
   "execution_count": 185,
   "metadata": {},
   "outputs": [],
   "source": [
    "# Lo volvemos a cargar\n",
    "model = keras.models.load_model(\"my_keras_model.h5\")"
   ]
  },
  {
   "attachments": {},
   "cell_type": "markdown",
   "metadata": {},
   "source": [
    "### Callbacks\n",
    "Son funciones predefinidas de Keras a aplicar durante el entrenamiento\n",
    "Por ejemplo, `ModelCheckpoint` sirve para que el modelo se vaya guardando tras cada epoch. Así no perdemos el progreso en caso de que decidamos interrumpir el entrenamiento. El callback recibe como argumento el nombre del objeto donde queremos que se guarde el modelo entrenado."
   ]
  },
  {
   "cell_type": "code",
   "execution_count": 175,
   "metadata": {
    "collapsed": true,
    "jupyter": {
     "outputs_hidden": true
    },
    "tags": []
   },
   "outputs": [
    {
     "name": "stdout",
     "output_type": "stream",
     "text": [
      "Epoch 1/30\n",
      "363/363 [==============================] - 0s 847us/step - loss: 0.3712\n",
      "Epoch 2/30\n",
      "363/363 [==============================] - 0s 843us/step - loss: 0.4045\n",
      "Epoch 3/30\n",
      "363/363 [==============================] - 0s 844us/step - loss: 0.3570\n",
      "Epoch 4/30\n",
      "363/363 [==============================] - 0s 849us/step - loss: 0.3519\n",
      "Epoch 5/30\n",
      "363/363 [==============================] - 0s 853us/step - loss: 0.3482\n",
      "Epoch 6/30\n",
      "363/363 [==============================] - 0s 840us/step - loss: 0.3465\n",
      "Epoch 7/30\n",
      "363/363 [==============================] - 0s 865us/step - loss: 0.3436\n",
      "Epoch 8/30\n",
      "363/363 [==============================] - 0s 879us/step - loss: 0.3422\n",
      "Epoch 9/30\n",
      "363/363 [==============================] - 0s 866us/step - loss: 0.3411\n",
      "Epoch 10/30\n",
      "363/363 [==============================] - 0s 891us/step - loss: 0.3399\n",
      "Epoch 11/30\n",
      "363/363 [==============================] - 0s 1ms/step - loss: 0.3402\n",
      "Epoch 12/30\n",
      "363/363 [==============================] - 0s 933us/step - loss: 0.3359\n",
      "Epoch 13/30\n",
      "363/363 [==============================] - 0s 917us/step - loss: 0.3369\n",
      "Epoch 14/30\n",
      "363/363 [==============================] - 0s 899us/step - loss: 0.3354\n",
      "Epoch 15/30\n",
      "363/363 [==============================] - 0s 866us/step - loss: 0.3326\n",
      "Epoch 16/30\n",
      "363/363 [==============================] - 0s 897us/step - loss: 0.3311\n",
      "Epoch 17/30\n",
      "363/363 [==============================] - 0s 847us/step - loss: 0.3307\n",
      "Epoch 18/30\n",
      "363/363 [==============================] - 0s 857us/step - loss: 0.3300\n",
      "Epoch 19/30\n",
      "363/363 [==============================] - 0s 852us/step - loss: 0.3313\n",
      "Epoch 20/30\n",
      "363/363 [==============================] - 0s 909us/step - loss: 0.3295\n",
      "Epoch 21/30\n",
      "363/363 [==============================] - 0s 847us/step - loss: 0.3285\n",
      "Epoch 22/30\n",
      "363/363 [==============================] - 0s 853us/step - loss: 0.3317\n",
      "Epoch 23/30\n",
      "363/363 [==============================] - 0s 858us/step - loss: 0.3256\n",
      "Epoch 24/30\n",
      "363/363 [==============================] - 0s 898us/step - loss: 0.3266\n",
      "Epoch 25/30\n",
      "363/363 [==============================] - 0s 876us/step - loss: 0.3242\n",
      "Epoch 26/30\n",
      "363/363 [==============================] - 0s 885us/step - loss: 0.3259\n",
      "Epoch 27/30\n",
      "363/363 [==============================] - 0s 844us/step - loss: 0.3292\n",
      "Epoch 28/30\n",
      "363/363 [==============================] - 0s 963us/step - loss: 0.3225\n",
      "Epoch 29/30\n",
      "363/363 [==============================] - 0s 1ms/step - loss: 0.3234\n",
      "Epoch 30/30\n",
      "363/363 [==============================] - 0s 931us/step - loss: 0.3216\n"
     ]
    }
   ],
   "source": [
    "checkpoint_cb = keras.callbacks.ModelCheckpoint(\"callback_model.h5\")\n",
    "history = model.fit(X_train,\n",
    "                   y_train,\n",
    "                   epochs=30,\n",
    "                   callbacks = [checkpoint_cb])"
   ]
  },
  {
   "cell_type": "code",
   "execution_count": 193,
   "metadata": {},
   "outputs": [],
   "source": [
    "model = keras.models.load_model(\"callback_model.h5\")"
   ]
  },
  {
   "cell_type": "code",
   "execution_count": 198,
   "metadata": {},
   "outputs": [
    {
     "data": {
      "text/plain": [
       "'2.12.0'"
      ]
     },
     "execution_count": 198,
     "metadata": {},
     "output_type": "execute_result"
    }
   ],
   "source": [
    "keras.__version__"
   ]
  },
  {
   "attachments": {},
   "cell_type": "markdown",
   "metadata": {},
   "source": [
    "### Early Stopping\n",
    "Interrumpe el entrenamiento cuando no ve progreso en el set de validación. Para ello tiene en cuenta un numero de epochs llamado `patience`. Se puede combinar con el callback"
   ]
  },
  {
   "cell_type": "code",
   "execution_count": 202,
   "metadata": {},
   "outputs": [
    {
     "name": "stdout",
     "output_type": "stream",
     "text": [
      "Epoch 1/20\n",
      "363/363 [==============================] - 0s 1ms/step - loss: 0.3102 - val_loss: 0.3068\n",
      "Epoch 2/20\n",
      "363/363 [==============================] - 0s 1ms/step - loss: 0.3081 - val_loss: 0.3015\n",
      "Epoch 3/20\n",
      "363/363 [==============================] - 0s 1ms/step - loss: 0.3087 - val_loss: 0.3216\n",
      "Epoch 4/20\n",
      "363/363 [==============================] - 0s 1ms/step - loss: 0.3073 - val_loss: 0.3031\n",
      "Epoch 5/20\n",
      "363/363 [==============================] - 0s 1ms/step - loss: 0.3082 - val_loss: 0.3629\n",
      "Epoch 6/20\n",
      "363/363 [==============================] - 0s 1ms/step - loss: 0.3083 - val_loss: 0.3106\n",
      "Epoch 7/20\n",
      "363/363 [==============================] - 0s 1ms/step - loss: 0.3055 - val_loss: 0.3062\n"
     ]
    }
   ],
   "source": [
    "early_stopping_cb = keras.callbacks.EarlyStopping(patience=5)\n",
    "history = model.fit(X_train,\n",
    "                   y_train,\n",
    "                   epochs=20,\n",
    "                    validation_data = (X_valid, y_valid),\n",
    "                   callbacks = [early_stopping_cb])"
   ]
  }
 ],
 "metadata": {
  "kernelspec": {
   "display_name": "Python 3",
   "language": "python",
   "name": "python3"
  },
  "language_info": {
   "codemirror_mode": {
    "name": "ipython",
    "version": 3
   },
   "file_extension": ".py",
   "mimetype": "text/x-python",
   "name": "python",
   "nbconvert_exporter": "python",
   "pygments_lexer": "ipython3",
   "version": "3.11.1"
  }
 },
 "nbformat": 4,
 "nbformat_minor": 4
}
